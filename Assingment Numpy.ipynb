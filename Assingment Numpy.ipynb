{
 "cells": [
  {
   "cell_type": "code",
   "execution_count": 6,
   "id": "3c838c11-4def-494f-9446-67d28f481745",
   "metadata": {},
   "outputs": [
    {
     "name": "stdout",
     "output_type": "stream",
     "text": [
      "data type of arr is int64\n"
     ]
    }
   ],
   "source": [
    "# 1. Create a NumPy array 'arr' of integers from 0 to 5 and print its data type.\n",
    "\n",
    "\n",
    "import numpy as np\n",
    "\n",
    "l=[1,2,3,4,5]\n",
    "arr=np.array(l)\n",
    "arr\n",
    "print(\"data type of arr is\",arr.dtype)"
   ]
  },
  {
   "cell_type": "code",
   "execution_count": 11,
   "id": "5f77acda-4b93-4203-8649-d9a46f7f1051",
   "metadata": {},
   "outputs": [
    {
     "data": {
      "text/plain": [
       "dtype('float64')"
      ]
     },
     "execution_count": 11,
     "metadata": {},
     "output_type": "execute_result"
    }
   ],
   "source": [
    "# 2. Given a NumPy array 'arr', check if its data type is float64.\n",
    "\n",
    "arr = np.array([1.5, 2.6, 3.7])\n",
    "arr.dtype"
   ]
  },
  {
   "cell_type": "code",
   "execution_count": 25,
   "id": "11c03108-44ed-4728-96ee-fee51a2c1907",
   "metadata": {},
   "outputs": [
    {
     "name": "stdout",
     "output_type": "stream",
     "text": [
      "arrar [2.+3.j 4.+5.j 5.+6.j]\n"
     ]
    },
    {
     "data": {
      "text/plain": [
       "dtype('complex128')"
      ]
     },
     "execution_count": 25,
     "metadata": {},
     "output_type": "execute_result"
    }
   ],
   "source": [
    "# 3. Create a NumPy array 'arr' with a data type of complex128 containing three complex numbers.\n",
    "\n",
    "l=[2+3j,4+5j,5+6j]\n",
    "arr=np.array(l)\n",
    "print(\"arrar\",arr)\n",
    "arr.dtype"
   ]
  },
  {
   "cell_type": "code",
   "execution_count": 27,
   "id": "1baaa37d-5ce6-4f79-978f-3b7e5e46d377",
   "metadata": {},
   "outputs": [
    {
     "data": {
      "text/plain": [
       "dtype('float32')"
      ]
     },
     "execution_count": 27,
     "metadata": {},
     "output_type": "execute_result"
    }
   ],
   "source": [
    "# 4. Convert an existing NumPy array 'arr' of integers to float32 data type.\n",
    "\n",
    "l=[1,2,3,4,5]\n",
    "arr=np.array(l)\n",
    "a=arr.astype(np.float32)\n",
    "a.dtype"
   ]
  },
  {
   "cell_type": "code",
   "execution_count": 59,
   "id": "3175646a-2471-45f1-8e89-08d93c2a470a",
   "metadata": {},
   "outputs": [
    {
     "name": "stdout",
     "output_type": "stream",
     "text": [
      "Original array (float64): [1.23456789 2.3456789  3.456789  ]\n",
      "Converted array (float32): [1.2345679 2.3456788 3.456789 ]\n"
     ]
    }
   ],
   "source": [
    "# 5. Given a NumPy array 'arr' with float64 data type, convert it to float32 to reduce decimal precision.\n",
    "\n",
    "arr = np.array([1.23456789, 2.3456789, 3.456789], dtype=np.float64)\n",
    "\n",
    "arr_float32 = arr.astype(np.float32)\n",
    "\n",
    "print(\"Original array (float64):\", arr)\n",
    "print(\"Converted array (float32):\", arr_float32)"
   ]
  },
  {
   "cell_type": "code",
   "execution_count": 60,
   "id": "476b3331-b84e-461d-9dd7-950857b2a39a",
   "metadata": {},
   "outputs": [
    {
     "name": "stdout",
     "output_type": "stream",
     "text": [
      "Shape: (2, 3)\n",
      "Size: 6\n",
      "Data type: int64\n"
     ]
    }
   ],
   "source": [
    "# 6. Write a function array_attributes that takes a NumPy array as input and returns its shape, size, and data\n",
    "# type\n",
    "\n",
    "def array_attributes(arr):\n",
    "    \"\"\"\n",
    "    Returns the shape, size, and data type of a NumPy array.\n",
    "    :param arr: Input NumPy array.\n",
    "    :return: Tuple containing (shape, size, data type).\n",
    "    \"\"\"\n",
    "    shape = arr.shape\n",
    "    size = arr.size\n",
    "    data_type = arr.dtype\n",
    "    return shape, size, data_type\n",
    "\n",
    "# Example usage:\n",
    "my_array = np.array([[1, 2, 3], [4, 5, 6]])\n",
    "shape, size, data_type = array_attributes(my_array)\n",
    "\n",
    "print(\"Shape:\", shape)\n",
    "print(\"Size:\", size)\n",
    "print(\"Data type:\", data_type)\n"
   ]
  },
  {
   "cell_type": "code",
   "execution_count": 62,
   "id": "a1c9d770-f65a-47eb-a4d9-b144f2130b89",
   "metadata": {},
   "outputs": [
    {
     "name": "stdout",
     "output_type": "stream",
     "text": [
      "Dimension is 2\n"
     ]
    }
   ],
   "source": [
    "# 7. Create a function array_dimension that takes a NumPy array as input and returns its dimensionality.\n",
    "\n",
    "def array_dim(arr):\n",
    "    dimension = arr.ndim\n",
    "    return dimension\n",
    "my_array = np.array([[1, 2, 3], [4, 5, 6]])\n",
    "dimension=array_dim(my_array)\n",
    "print('Dimension is',dimension)"
   ]
  },
  {
   "cell_type": "code",
   "execution_count": 63,
   "id": "c1f875b3-b795-499c-9f3d-bf6380ba77ac",
   "metadata": {},
   "outputs": [
    {
     "name": "stdout",
     "output_type": "stream",
     "text": [
      "Item size: 4 bytes\n",
      "Total size: 12 bytes\n"
     ]
    }
   ],
   "source": [
    "# 8. Design a function item_size_info that takes a NumPy array as input and returns the item size and the total\n",
    "# size in bytes.\n",
    "\n",
    "def item_size_info(arr):\n",
    "    \n",
    "    item_size = arr.itemsize\n",
    "    total_size = arr.nbytes\n",
    "    return item_size, total_size\n",
    "\n",
    "\n",
    "my_array = np.array([1, 2, 3], dtype=np.int32)\n",
    "item_size, total_size = item_size_info(my_array)\n",
    "\n",
    "print(f\"Item size: {item_size} bytes\")\n",
    "print(f\"Total size: {total_size} bytes\")\n"
   ]
  },
  {
   "cell_type": "code",
   "execution_count": 64,
   "id": "1663a9a5-febc-4685-ad49-3e9e33179a2c",
   "metadata": {},
   "outputs": [
    {
     "name": "stdout",
     "output_type": "stream",
     "text": [
      "Strides: (12, 4)\n"
     ]
    }
   ],
   "source": [
    "# 9. Create a function array_strides that takes a NumPy array as input and returns the strides of the array.\n",
    "\n",
    "def array_strides(arr):\n",
    "    \"\"\"\n",
    "    Returns the strides (step sizes) of a NumPy array.\n",
    "    :param arr: Input NumPy array.\n",
    "    :return: Tuple containing the strides.\n",
    "    \"\"\"\n",
    "    return arr.strides\n",
    "\n",
    "# Example usage:\n",
    "my_array = np.array([[1, 2, 3], [4, 5, 6]], dtype=np.int32)\n",
    "strides = array_strides(my_array)\n",
    "\n",
    "print(\"Strides:\", strides)"
   ]
  },
  {
   "cell_type": "code",
   "execution_count": 69,
   "id": "25ef41b4-0f53-47cb-97d9-66af8f6f5a89",
   "metadata": {},
   "outputs": [
    {
     "name": "stdout",
     "output_type": "stream",
     "text": [
      "Shape: (2, 3)\n",
      "Strides: (12, 4)\n"
     ]
    }
   ],
   "source": [
    "# 10. Design a function shape_stride_relationship that takes a NumPy array as input and returns the shape\n",
    "# and strides of the array.\n",
    "\n",
    "def shape_stride_relationship(arr):\n",
    "    \"\"\"\n",
    "    Returns the shape and strides of a NumPy array.\n",
    "    :param arr: Input NumPy array.\n",
    "    :return: Tuple containing (shape, strides).\n",
    "    \"\"\"\n",
    "    shape = arr.shape\n",
    "    strides = arr.strides\n",
    "    return shape, strides\n",
    "\n",
    "# Example usage:\n",
    "my_array = np.array([[1, 2, 3], [4, 5, 6]], dtype=np.int32)\n",
    "shape_result, strides_result = shape_stride_relationship(my_array)\n",
    "\n",
    "print(\"Shape:\", shape_result)\n",
    "print(\"Strides:\", strides_result)"
   ]
  },
  {
   "cell_type": "code",
   "execution_count": 70,
   "id": "7472384a-aa05-4e0b-9fa5-a9edfddfab7a",
   "metadata": {},
   "outputs": [
    {
     "name": "stdin",
     "output_type": "stream",
     "text": [
      "Enter the value of n 5\n"
     ]
    },
    {
     "name": "stdout",
     "output_type": "stream",
     "text": [
      "zero array [0. 0. 0. 0. 0.]\n"
     ]
    }
   ],
   "source": [
    "# 11. Create a function `create_zeros_array` that takes an integer `n` as input and returns a NumPy array of\n",
    "# zeros with `n` elements.\n",
    "\n",
    "def create_zeros_array(n):\n",
    "    return np.zeros(n)\n",
    "n=int(input(\"Enter the value of n\"))\n",
    "zeros_array=create_zeros_array(n)\n",
    "print(f\"zero array {zeros_array}\")"
   ]
  },
  {
   "cell_type": "code",
   "execution_count": 75,
   "id": "6d708d2b-475d-4639-ab45-37765a4f72c9",
   "metadata": {},
   "outputs": [
    {
     "name": "stdin",
     "output_type": "stream",
     "text": [
      "Enter the number of rows 5\n",
      "Enter the number of cols 3\n"
     ]
    },
    {
     "name": "stdout",
     "output_type": "stream",
     "text": [
      "ones matrix is [[1. 1. 1.]\n",
      " [1. 1. 1.]\n",
      " [1. 1. 1.]\n",
      " [1. 1. 1.]\n",
      " [1. 1. 1.]]\n"
     ]
    }
   ],
   "source": [
    "# 12. Write a function `create_ones_matrix` that takes integers `rows` and `cols` as inputs and generates a 2D\n",
    "# NumPy array filled with ones of size `rows x cols`.\n",
    "\n",
    "def create_ones_matrix(a,b):\n",
    "    return np.ones((a,b))\n",
    "a=int(input(\"Enter the number of rows\"))\n",
    "b=int(input(\"Enter the number of cols\"))\n",
    "ones_matrix=create_ones_matrix(a,b)\n",
    "print(f\"ones matrix is {ones_matrix}\")      "
   ]
  },
  {
   "cell_type": "code",
   "execution_count": 79,
   "id": "64bb8105-deb0-4420-a3e7-fbac2c12ed49",
   "metadata": {},
   "outputs": [
    {
     "name": "stdin",
     "output_type": "stream",
     "text": [
      "Enter the start Value 1\n",
      "Enter the end Value 10\n",
      "Enter the step Value 2\n"
     ]
    },
    {
     "name": "stdout",
     "output_type": "stream",
     "text": [
      "Range array: [1 3 5 7 9]\n"
     ]
    }
   ],
   "source": [
    "# 13. Write a function `generate_range_array` that takes three integers start, stop, and step as arguments and\n",
    "# creates a NumPy array with a range starting from `start`, ending at stop (exclusive), and with the specified\n",
    "# `step`.\n",
    "\n",
    "def generate_range_array(start, stop, step):\n",
    "    \"\"\"\n",
    "    Creates a NumPy array with a specified range.\n",
    "    :param start: Starting value.\n",
    "    :param stop: Ending value (exclusive).\n",
    "    :param step: Step size.\n",
    "    :return: NumPy array with the specified range.\n",
    "    \"\"\"\n",
    "    return np.arange(start, stop, step)\n",
    "\n",
    "# Example usage:\n",
    "start_value = int(input(\"Enter the start Value\"))\n",
    "end_value = int(input(\"Enter the end Value\"))\n",
    "step_size = int(input(\"Enter the step Value\"))\n",
    "range_array = generate_range_array(start_value, end_value, step_size)\n",
    "print(\"Range array:\", range_array)"
   ]
  },
  {
   "cell_type": "code",
   "execution_count": 90,
   "id": "282b26ef-cbed-4f43-8f1c-774773698961",
   "metadata": {},
   "outputs": [
    {
     "name": "stdin",
     "output_type": "stream",
     "text": [
      "Enter the start Value as float 1.1\n",
      "Enter the end Value as float 9.9\n",
      "Enter the space Value as integer 10\n"
     ]
    },
    {
     "name": "stdout",
     "output_type": "stream",
     "text": [
      "generated array is  [1.1        2.07777778 3.05555556 4.03333333 5.01111111 5.98888889\n",
      " 6.96666667 7.94444444 8.92222222 9.9       ]\n"
     ]
    }
   ],
   "source": [
    "# 14. Design a function `generate_linear_space` that takes two floats `start`, `stop`, and an integer `num` as\n",
    "# arguments and generates a NumPy array with num equally spaced values between `start` and `stop`\n",
    "# (inclusive).\n",
    "\n",
    "def generate_linear_space(start,stop,num):\n",
    "    return np.linspace(start,stop,num)\n",
    "start = float(input(\"Enter the start Value as float\"))\n",
    "stop = float(input(\"Enter the end Value as float\"))\n",
    "num = int(input(\"Enter the space Value as integer\"))\n",
    "generated_array=generate_linear_space(start,stop,num)\n",
    "print(\"generated array is \",generated_array)"
   ]
  },
  {
   "cell_type": "code",
   "execution_count": 99,
   "id": "a78fbe0b-76b7-4bf8-b04e-28fe9da3ffae",
   "metadata": {},
   "outputs": [
    {
     "name": "stdin",
     "output_type": "stream",
     "text": [
      "Enter the value of n 5\n"
     ]
    },
    {
     "name": "stdout",
     "output_type": "stream",
     "text": [
      "The identity matrix of n x n size is [[1. 0. 0. 0. 0.]\n",
      " [0. 1. 0. 0. 0.]\n",
      " [0. 0. 1. 0. 0.]\n",
      " [0. 0. 0. 1. 0.]\n",
      " [0. 0. 0. 0. 1.]]\n"
     ]
    }
   ],
   "source": [
    "# 15. Create a function `create_identity_matrix` that takes an integer `n` as input and generates a square\n",
    "# identity matrix of size `n x n` using `numpy.eye`.\n",
    "\n",
    "def create_identity_matrix(n):\n",
    "    return np.eye(n)\n",
    "n=int(input(\"Enter the value of n\"))\n",
    "identity_matrix=create_identity_matrix(n)\n",
    "print(f\"The identity matrix of n x n size is {identity_matrix}\")"
   ]
  },
  {
   "cell_type": "code",
   "execution_count": 113,
   "id": "73efef6b-a663-4063-a388-8029c9a1055c",
   "metadata": {},
   "outputs": [
    {
     "name": "stdin",
     "output_type": "stream",
     "text": [
      "Enter the elements of list seperated by comma 55,65,5,8,9\n"
     ]
    },
    {
     "name": "stdout",
     "output_type": "stream",
     "text": [
      "The numpy array is ['55' '65' '5' '8' '9']\n"
     ]
    }
   ],
   "source": [
    "# 16. Write a function that takes a Python list and converts it into a NumPy array.\n",
    "\n",
    "def list_to_array(l):\n",
    "    return np.array(l)\n",
    "\n",
    "l=list((input(\"Enter the elements of list seperated by comma\")).split(\",\"))\n",
    "arr=list_to_array(l)\n",
    "print(\"The numpy array is\",arr)"
   ]
  },
  {
   "cell_type": "code",
   "execution_count": 115,
   "id": "c497723d-1f55-4bca-9e13-bf7cc36249cb",
   "metadata": {},
   "outputs": [
    {
     "name": "stdout",
     "output_type": "stream",
     "text": [
      "Original array:\n",
      "[10 20 30 40 50]\n",
      "\n",
      "View array (modified):\n",
      "[99 20 30 40 50]\n",
      "\n",
      "Original array (after modification via view):\n",
      "[99 20 30 40 50]\n"
     ]
    }
   ],
   "source": [
    "# 17. Create a NumPy array and demonstrate the use of `numpy.view` to create a new array object with the\n",
    "# same data.\n",
    "\n",
    "original_array = np.array([10, 20, 30, 40, 50])\n",
    "\n",
    "# Display the original array\n",
    "print(\"Original array:\")\n",
    "print(original_array)\n",
    "\n",
    "# Create a view of the original array\n",
    "view_array = original_array.view()\n",
    "\n",
    "# Modify the view array (this will also affect the original array)\n",
    "view_array[0] = 99\n",
    "\n",
    "# Display the view array\n",
    "print(\"\\nView array (modified):\")\n",
    "print(view_array)\n",
    "\n",
    "# Display the original array (notice the change)\n",
    "print(\"\\nOriginal array (after modification via view):\")\n",
    "print(original_array)\n"
   ]
  },
  {
   "cell_type": "code",
   "execution_count": 133,
   "id": "08e33e33-1d48-4467-a3e8-35970c7dec8c",
   "metadata": {},
   "outputs": [
    {
     "name": "stdout",
     "output_type": "stream",
     "text": [
      "Concatenated array  [1 2 3 4 5 5 6 7 8 9]\n"
     ]
    }
   ],
   "source": [
    "# 18. Write a function that takes two NumPy arrays and concatenates them along a specified axis.\n",
    "\n",
    "def concat_two_array(arr1,arr2,shape):\n",
    "    return np.concatenate((arr1, arr2), axis=axis)\n",
    "arr1=np.array((1,2,3,4,5))\n",
    "arr2=np.array((5,6,7,8,9))\n",
    "axis=0\n",
    "a=concat_two_array(arr1,arr2,shape)\n",
    "print(\"Concatenated array \",a)"
   ]
  },
  {
   "cell_type": "code",
   "execution_count": 136,
   "id": "670501db-e743-4384-9e78-82046ee723e3",
   "metadata": {},
   "outputs": [
    {
     "name": "stdout",
     "output_type": "stream",
     "text": [
      "Concatenated array (horizontally):\n",
      "[[ 1  2  3  7  8]\n",
      " [ 4  5  6  9 10]]\n"
     ]
    }
   ],
   "source": [
    "# 19. Create two NumPy arrays with different shapes and concatenate them horizontally using `numpy.\n",
    "# concatenate`.\n",
    "\n",
    "array1 = np.array([[1, 2, 3], [4, 5, 6]]) \n",
    "array2 = np.array([[7, 8], [9, 10]])       \n",
    "\n",
    "concatenated_result = np.concatenate((array1, array2), axis=1)\n",
    "\n",
    "print(\"Concatenated array (horizontally):\")\n",
    "print(concatenated_result)\n",
    "\n"
   ]
  },
  {
   "cell_type": "code",
   "execution_count": 2,
   "id": "4367e948-0051-44b9-914d-0c3308b52b2d",
   "metadata": {},
   "outputs": [
    {
     "name": "stdout",
     "output_type": "stream",
     "text": [
      "Stacked Array:\n",
      "[[ 1  2  3]\n",
      " [ 4  5  6]\n",
      " [ 7  8  9]\n",
      " [10 11 12]\n",
      " [13 14 15]\n",
      " [16 17 18]]\n"
     ]
    }
   ],
   "source": [
    "# 20. Write a function that vertically stacks multiple NumPy arrays given as a list.\n",
    "\n",
    "def vertical_stack(arrays):\n",
    "\n",
    "    return np.vstack(arrays)\n",
    "\n",
    "array1 = np.array([[1, 2, 3],\n",
    "                   [4, 5, 6]])\n",
    "\n",
    "array2 = np.array([[7, 8, 9],\n",
    "                   [10, 11, 12]])\n",
    "\n",
    "array3 = np.array([[13, 14, 15],\n",
    "                   [16, 17, 18]])\n",
    "\n",
    "# List of arrays\n",
    "arrays_list = [array1, array2, array3]\n",
    "\n",
    "# Stack arrays vertically\n",
    "result = vertical_stack(arrays_list)\n",
    "\n",
    "print(\"Stacked Array:\")\n",
    "print(result)\n"
   ]
  },
  {
   "cell_type": "code",
   "execution_count": 8,
   "id": "9b356f3c-dc00-4271-8966-5ccb63406b5f",
   "metadata": {},
   "outputs": [
    {
     "name": "stdin",
     "output_type": "stream",
     "text": [
      "Enter the start value 1\n",
      "Enter the stop value 10\n",
      "Enter the sept 1\n"
     ]
    },
    {
     "name": "stdout",
     "output_type": "stream",
     "text": [
      "[ 1  2  3  4  5  6  7  8  9 10]\n"
     ]
    }
   ],
   "source": [
    "# 21. Write a Python function using NumPy to create an array of integers within a specified range (inclusive)\n",
    "# with a given step size.\n",
    "\n",
    "def create_integer_array(start, stop, step):\n",
    "   \n",
    "    return np.arange(start, stop + 1, step, dtype=int)\n",
    "\n",
    "start=int(input(\"Enter the start value\"))\n",
    "stop=int(input(\"Enter the stop value\"))\n",
    "step=int(input(\"Enter the sept\"))\n",
    "\n",
    "arr1 = create_integer_array(start,stop,step)\n",
    "print(arr1)\n"
   ]
  },
  {
   "cell_type": "code",
   "execution_count": 6,
   "id": "afcb919d-ce85-4784-845e-2cbba108b103",
   "metadata": {},
   "outputs": [
    {
     "name": "stdin",
     "output_type": "stream",
     "text": [
      "Enter the start value 0\n",
      "Enter the stop value 1\n",
      "Enter the sept 10\n"
     ]
    },
    {
     "name": "stdout",
     "output_type": "stream",
     "text": [
      "[0.         0.11111111 0.22222222 0.33333333 0.44444444 0.55555556\n",
      " 0.66666667 0.77777778 0.88888889 1.        ]\n"
     ]
    }
   ],
   "source": [
    "# 22. Write a Python function using NumPy to generate an array of 10 equally spaced values between 0 and 1\n",
    "# (inclusive).\n",
    "\n",
    "def create_array(star,stop,space):\n",
    "    return np.linspace(start,stop,space)\n",
    "\n",
    "start=int(input(\"Enter the start value\"))\n",
    "stop=int(input(\"Enter the stop value\"))\n",
    "space=int(input(\"Enter the sept\"))\n",
    "\n",
    "arr1 = create_array(start,stop,space)\n",
    "print(arr1)\n"
   ]
  },
  {
   "cell_type": "code",
   "execution_count": 5,
   "id": "f877853e-db30-4a06-92fd-29c23f0fc279",
   "metadata": {},
   "outputs": [
    {
     "name": "stdin",
     "output_type": "stream",
     "text": [
      "Enter the start value 1\n",
      "Enter the stop value 1000\n",
      "Enter the num value 5\n"
     ]
    },
    {
     "name": "stdout",
     "output_type": "stream",
     "text": [
      "[   1.            5.62341325   31.6227766   177.827941   1000.        ]\n"
     ]
    }
   ],
   "source": [
    "# 23. Write a Python function using NumPy to create an array of 5 logarithmically spaced values between 1 and\n",
    "# 1000 (inclusive).\n",
    "\n",
    "def create_array(star,stop,num):\n",
    "    return np.logspace(np.log10(start),np.log10(stop),num)\n",
    "\n",
    "start=int(input(\"Enter the start value\"))\n",
    "stop=int(input(\"Enter the stop value\"))\n",
    "num=int(input(\"Enter the num value\"))\n",
    "\n",
    "arr1 = create_array(start,stop,num)\n",
    "print(arr1)"
   ]
  },
  {
   "cell_type": "code",
   "execution_count": 2,
   "id": "e729b04e-bad4-45e4-8980-5c52364df422",
   "metadata": {},
   "outputs": [
    {
     "data": {
      "text/html": [
       "<div>\n",
       "<style scoped>\n",
       "    .dataframe tbody tr th:only-of-type {\n",
       "        vertical-align: middle;\n",
       "    }\n",
       "\n",
       "    .dataframe tbody tr th {\n",
       "        vertical-align: top;\n",
       "    }\n",
       "\n",
       "    .dataframe thead th {\n",
       "        text-align: right;\n",
       "    }\n",
       "</style>\n",
       "<table border=\"1\" class=\"dataframe\">\n",
       "  <thead>\n",
       "    <tr style=\"text-align: right;\">\n",
       "      <th></th>\n",
       "      <th>column1</th>\n",
       "      <th>column2</th>\n",
       "      <th>column2</th>\n",
       "    </tr>\n",
       "  </thead>\n",
       "  <tbody>\n",
       "    <tr>\n",
       "      <th>0</th>\n",
       "      <td>73</td>\n",
       "      <td>30</td>\n",
       "      <td>59</td>\n",
       "    </tr>\n",
       "    <tr>\n",
       "      <th>1</th>\n",
       "      <td>34</td>\n",
       "      <td>33</td>\n",
       "      <td>77</td>\n",
       "    </tr>\n",
       "    <tr>\n",
       "      <th>2</th>\n",
       "      <td>75</td>\n",
       "      <td>40</td>\n",
       "      <td>21</td>\n",
       "    </tr>\n",
       "    <tr>\n",
       "      <th>3</th>\n",
       "      <td>34</td>\n",
       "      <td>99</td>\n",
       "      <td>50</td>\n",
       "    </tr>\n",
       "    <tr>\n",
       "      <th>4</th>\n",
       "      <td>91</td>\n",
       "      <td>75</td>\n",
       "      <td>52</td>\n",
       "    </tr>\n",
       "  </tbody>\n",
       "</table>\n",
       "</div>"
      ],
      "text/plain": [
       "   column1  column2  column2\n",
       "0       73       30       59\n",
       "1       34       33       77\n",
       "2       75       40       21\n",
       "3       34       99       50\n",
       "4       91       75       52"
      ]
     },
     "execution_count": 2,
     "metadata": {},
     "output_type": "execute_result"
    }
   ],
   "source": [
    "# 24. Create a Pandas DataFrame using a NumPy array that contains 5 rows and 3 columns, where the values\n",
    "# are random integers between 1 and 100.\n",
    "\n",
    "import pandas as pd\n",
    "\n",
    "random_array=np.random.randint(1,101,(5,3))\n",
    "\n",
    "df=pd.DataFrame(random_array,columns=['column1','column2','column2'])\n",
    "df"
   ]
  },
  {
   "cell_type": "code",
   "execution_count": 3,
   "id": "1e3e51f6-3698-4d78-9a63-6ae2f4b6a0a7",
   "metadata": {},
   "outputs": [
    {
     "name": "stdout",
     "output_type": "stream",
     "text": [
      "Original DataFrame:\n",
      "   A   B\n",
      "0  1  10\n",
      "1 -2 -20\n",
      "2  3  30\n",
      "3 -4  40\n",
      "4  5 -50\n",
      "\n",
      "DataFrame after modification:\n",
      "   A   B\n",
      "0  1  10\n",
      "1 -2   0\n",
      "2  3  30\n",
      "3 -4  40\n",
      "4  5   0\n"
     ]
    }
   ],
   "source": [
    "# 25. Write a function that takes a Pandas DataFrame and replaces all negative values in a specific column\n",
    "# with zeros. Use NumPy operations within the Pandas DataFrame.\n",
    "\n",
    "def replace_negative_with_zero(df, column_name):\n",
    "    # Use NumPy's where function to replace negative values with zero\n",
    "    df[column_name] = np.where(df[column_name] < 0, 0, df[column_name])\n",
    "    return df\n",
    "\n",
    "\n",
    "# Example DataFrame\n",
    "data = {'A': [1, -2, 3, -4, 5],\n",
    "        'B': [10, -20, 30, 40, -50]}\n",
    "df = pd.DataFrame(data)\n",
    "\n",
    "print(\"Original DataFrame:\")\n",
    "print(df)\n",
    "\n",
    "# Replace negative values in column 'B' with zeros\n",
    "df_modified = replace_negative_with_zero(df, 'B')\n",
    "\n",
    "print(\"\\nDataFrame after modification:\")\n",
    "print(df_modified)"
   ]
  },
  {
   "cell_type": "code",
   "execution_count": 6,
   "id": "8f149eda-8f84-4212-8fa7-75b65aceb781",
   "metadata": {},
   "outputs": [
    {
     "data": {
      "text/plain": [
       "30"
      ]
     },
     "execution_count": 6,
     "metadata": {},
     "output_type": "execute_result"
    }
   ],
   "source": [
    "# 26. Access the 3rd element from the given NumPy array.\n",
    "arr = np.array([10, 20, 30, 40, 50])\n",
    "\n",
    "arr[2]"
   ]
  },
  {
   "cell_type": "code",
   "execution_count": 9,
   "id": "292c531b-cd5b-4d9f-9222-c8d67f080c69",
   "metadata": {},
   "outputs": [
    {
     "data": {
      "text/plain": [
       "6"
      ]
     },
     "execution_count": 9,
     "metadata": {},
     "output_type": "execute_result"
    }
   ],
   "source": [
    "# 27. Retrieve the element at index (1, 2) from the 2D NumPy array.\n",
    "arr_2d = np.array([[1, 2, 3],\n",
    "                   [4, 5, 6],\n",
    "                   [7, 8, 9]])\n",
    "arr_2d[1,2]"
   ]
  },
  {
   "cell_type": "code",
   "execution_count": 12,
   "id": "31478078-f388-4c08-9a45-391d63c65247",
   "metadata": {},
   "outputs": [
    {
     "name": "stdout",
     "output_type": "stream",
     "text": [
      "[ 8 10  7]\n"
     ]
    }
   ],
   "source": [
    "# 28. Using boolean indexing, extract elements greater than 5 from the given NumPy array.\n",
    "arr = np.array([3, 8, 2, 10, 5, 7])\n",
    "\n",
    "a=arr>5\n",
    "result=arr[a]\n",
    "print(result)"
   ]
  },
  {
   "cell_type": "code",
   "execution_count": 14,
   "id": "cdedbd56-60a8-46ba-ab3f-1d5b0eade5b9",
   "metadata": {},
   "outputs": [
    {
     "data": {
      "text/plain": [
       "array([2, 3, 4, 5])"
      ]
     },
     "execution_count": 14,
     "metadata": {},
     "output_type": "execute_result"
    }
   ],
   "source": [
    "# 29. Perform basic slicing to extract elements from index 2 to 5 (inclusive) from the given NumPy array.\n",
    "arr = np.array([1, 2, 3, 4, 5, 6, 7, 8, 9])\n",
    "arr[1:5]"
   ]
  },
  {
   "cell_type": "code",
   "execution_count": 16,
   "id": "4ad2873a-6479-4e61-a0c8-ab8b5525b9a9",
   "metadata": {},
   "outputs": [
    {
     "name": "stdout",
     "output_type": "stream",
     "text": [
      "[[2 3]\n",
      " [5 6]]\n"
     ]
    }
   ],
   "source": [
    "# 30. Slice the 2D NumPy array to extract the sub-array `[[2, 3], [5, 6]]` from the given array.\n",
    "arr_2d = np.array([[1, 2, 3],\n",
    "                   [4, 5, 6],\n",
    "                   [7, 8, 9]])\n",
    "row_indices = [0, 1]\n",
    "col_indices = [1, 2]\n",
    "\n",
    "sub_array = arr_2d[row_indices][:, col_indices]\n",
    "\n",
    "print(sub_array)"
   ]
  },
  {
   "cell_type": "code",
   "execution_count": 17,
   "id": "9a1d7832-9c11-40b5-a8ef-77da8fc54900",
   "metadata": {},
   "outputs": [
    {
     "name": "stdout",
     "output_type": "stream",
     "text": [
      "[2 6 8 3 4 1]\n"
     ]
    }
   ],
   "source": [
    "# 31.Write a NumPy function to extract elements in specific order from a given 2D array based on indices\n",
    "# provided in another array.\n",
    "\n",
    "def extract_elements(arr_2d, indices):\n",
    "   \n",
    "   \n",
    "    flat_arr = arr_2d.flatten()\n",
    "    \n",
    " \n",
    "    extracted_elements = flat_arr[indices]\n",
    "    \n",
    "    return extracted_elements\n",
    "\n",
    "arr_2d = np.array([[1, 2, 3],\n",
    "                   [4, 5, 6],\n",
    "                   [7, 8, 9]])\n",
    "\n",
    "indices = np.array([1, 5, 7, 2, 3, 0])\n",
    "\n",
    "result = extract_elements(arr_2d, indices)\n",
    "print(result)"
   ]
  },
  {
   "cell_type": "code",
   "execution_count": 20,
   "id": "3f5a7f38-4184-4c3f-939c-e79fa29ced84",
   "metadata": {},
   "outputs": [
    {
     "name": "stdout",
     "output_type": "stream",
     "text": [
      "[ 8 10  7]\n"
     ]
    }
   ],
   "source": [
    "# 32. Create a NumPy function that filters elements greater than a threshold from a given 1D array using\n",
    "# boolean indexing.\n",
    "\n",
    "def filter_greater_than_threshold(arr, threshold):\n",
    "   \n",
    "    mask = arr > threshold\n",
    "    \n",
    "   \n",
    "    filtered_array = arr[mask]\n",
    "    \n",
    "    return filtered_array\n",
    "\n",
    "arr = np.array([3, 8, 2, 10, 5, 7])\n",
    "threshold = 5\n",
    "\n",
    "result = filter_greater_than_threshold(arr, threshold)\n",
    "print(result)"
   ]
  },
  {
   "cell_type": "code",
   "execution_count": 21,
   "id": "6e205e19-636d-46b6-aee0-57a1b7fa9791",
   "metadata": {},
   "outputs": [
    {
     "name": "stdout",
     "output_type": "stream",
     "text": [
      "[ 2 12]\n"
     ]
    }
   ],
   "source": [
    "# 33. Develop a NumPy function that extracts specific elements from a 3D array using indices provided in three\n",
    "# separate arrays for each dimension.\n",
    "\n",
    "def extract_elements_3d(arr_3d, indices_dim1, indices_dim2, indices_dim3):\n",
    "   \n",
    "    extracted_elements = arr_3d[indices_dim1, indices_dim2, indices_dim3]\n",
    "    \n",
    "    return extracted_elements\n",
    "\n",
    "\n",
    "arr_3d = np.array([[[1, 2, 3],\n",
    "                    [4, 5, 6]],\n",
    "                   \n",
    "                   [[7, 8, 9],\n",
    "                    [10, 11, 12]]])\n",
    "\n",
    "indices_dim1 = np.array([0, 1])     # Indices for the first dimension (depth)\n",
    "indices_dim2 = np.array([0, 1])     # Indices for the second dimension (rows)\n",
    "indices_dim3 = np.array([1, 2])     # Indices for the third dimension (columns)\n",
    "\n",
    "result = extract_elements_3d(arr_3d, indices_dim1, indices_dim2, indices_dim3)\n",
    "print(result)"
   ]
  },
  {
   "cell_type": "code",
   "execution_count": 25,
   "id": "3df70745-0475-4096-93ea-07dd1f648fe5",
   "metadata": {},
   "outputs": [
    {
     "name": "stdout",
     "output_type": "stream",
     "text": [
      "[5 7]\n"
     ]
    }
   ],
   "source": [
    "# 34. Write a NumPy function that returns elements from an array where both two conditions are satisfied\n",
    "# using boolean indexing.\n",
    "\n",
    "def elements_satisfying_conditions(arr, condition1, condition2):\n",
    "    \n",
    "    mask = (condition1) & (condition2)\n",
    "    \n",
    "   \n",
    "    filtered_elements = arr[mask]\n",
    "    \n",
    "    return filtered_elements\n",
    "\n",
    "\n",
    "arr = np.array([3, 8, 2, 10, 5, 7])\n",
    "condition1 = arr > 4     # Elements greater than 4\n",
    "condition2 = arr < 8     # Elements less than 8\n",
    "\n",
    "result = elements_satisfying_conditions(arr, condition1, condition2)\n",
    "print(result)"
   ]
  },
  {
   "cell_type": "code",
   "execution_count": 26,
   "id": "9d18f0ee-1e3f-483e-8d7f-1a4bcdfb22b6",
   "metadata": {},
   "outputs": [
    {
     "name": "stdout",
     "output_type": "stream",
     "text": [
      "[2 6 7]\n"
     ]
    }
   ],
   "source": [
    "# 35. Create a NumPy function that extracts elements from a 2D array using row and column indices provided\n",
    "# in separate arrays.\n",
    "\n",
    "def extract_elements_2d(arr_2d, row_indices, col_indices):\n",
    "   \n",
    "    extracted_elements = arr_2d[row_indices, col_indices]\n",
    "    \n",
    "    return extracted_elements\n",
    "\n",
    "\n",
    "arr_2d = np.array([[1, 2, 3],\n",
    "                   [4, 5, 6],\n",
    "                   [7, 8, 9]])\n",
    "\n",
    "row_indices = np.array([0, 1, 2])    # Row indices\n",
    "col_indices = np.array([1, 2, 0])    # Column indices\n",
    "\n",
    "result = extract_elements_2d(arr_2d, row_indices, col_indices)\n",
    "print(result)"
   ]
  },
  {
   "cell_type": "code",
   "execution_count": 52,
   "id": "12f2a00f-141a-4bb2-b7a0-af285c4d2578",
   "metadata": {},
   "outputs": [
    {
     "data": {
      "text/plain": [
       "array([[6., 6., 6.],\n",
       "       [6., 6., 6.],\n",
       "       [6., 6., 6.]])"
      ]
     },
     "execution_count": 52,
     "metadata": {},
     "output_type": "execute_result"
    }
   ],
   "source": [
    "# 36. Given an array arr of shape (3, 3), add a scalar value of 5 to each element using NumPy broadcasting.\n",
    "\n",
    "arr=np.ones((3,3))\n",
    "arr+5"
   ]
  },
  {
   "cell_type": "code",
   "execution_count": 61,
   "id": "0f680f17-372d-4f03-8752-404cf8e6efe9",
   "metadata": {},
   "outputs": [
    {
     "name": "stdout",
     "output_type": "stream",
     "text": [
      "[[ 2  4  6  8]\n",
      " [15 18 21 24]\n",
      " [36 40 44 48]]\n"
     ]
    }
   ],
   "source": [
    "# 37. Consider two arrays arr1 of shape (1, 3) and arr2 of shape (3, 4). Multiply each row of arr2 by the\n",
    "# corresponding element in arr1 using NumPy broadcasting.\n",
    "\n",
    "arr1 = np.array([[2, 3, 4]])\n",
    "\n",
    "\n",
    "arr2 = np.array([[1, 2, 3, 4],\n",
    "                 [5, 6, 7, 8],\n",
    "                 [9, 10, 11, 12]])\n",
    "\n",
    "arr1_broadcast = arr1.reshape(3, 1) \n",
    "\n",
    "result = arr1_broadcast * arr2\n",
    "\n",
    "print(result)"
   ]
  },
  {
   "cell_type": "code",
   "execution_count": 67,
   "id": "1ec62393-634d-4dfa-8f17-0fa5a0aa57ac",
   "metadata": {},
   "outputs": [
    {
     "name": "stdout",
     "output_type": "stream",
     "text": [
      "Result:\n",
      "[[ 11  22  33]\n",
      " [ 41  52  63]\n",
      " [ 71  82  93]\n",
      " [101 112 123]]\n"
     ]
    }
   ],
   "source": [
    "# 38. Given a 1D array arr1 of shape (1, 4) and a 2D array arr2 of shape (4, 3), add arr1 to each row of arr2 using\n",
    "# NumPy broadcasting.\n",
    "\n",
    "\n",
    "\n",
    "arr1 = np.array([[1, 2, 3]])\n",
    "\n",
    "\n",
    "arr2 = np.array([[10, 20, 30],\n",
    "                 [40, 50, 60],\n",
    "                 [70, 80, 90],\n",
    "                 [100, 110, 120]])\n",
    "\n",
    "\n",
    "result = arr1 + arr2\n",
    "\n",
    "# Display the result\n",
    "print(\"Result:\")\n",
    "print(result)\n"
   ]
  },
  {
   "cell_type": "code",
   "execution_count": 68,
   "id": "274f5f0a-67e1-40e8-9f17-6375862d9a47",
   "metadata": {},
   "outputs": [
    {
     "name": "stdout",
     "output_type": "stream",
     "text": [
      "Result:\n",
      "[[11 21 31]\n",
      " [12 22 32]\n",
      " [13 23 33]]\n"
     ]
    }
   ],
   "source": [
    "# 39. Consider two arrays arr1 of shape (3, 1) and arr2 of shape (1, 3). Add these arrays using NumPy\n",
    "# broadcasting.\n",
    "\n",
    "\n",
    "arr1 = np.array([[1],\n",
    "                 [2],\n",
    "                 [3]])\n",
    "\n",
    "\n",
    "arr2 = np.array([[10, 20, 30]])\n",
    "\n",
    "\n",
    "result = arr1 + arr2\n",
    "\n",
    "print(\"Result:\")\n",
    "print(result)\n"
   ]
  },
  {
   "cell_type": "code",
   "execution_count": 72,
   "id": "bac53830-278f-44e0-8866-00b8c924e4bb",
   "metadata": {},
   "outputs": [
    {
     "name": "stdout",
     "output_type": "stream",
     "text": [
      "[[[ 2  4  6]\n",
      "  [12 15 18]]\n",
      "\n",
      " [[ 4  8 12]\n",
      "  [20 25 30]]]\n"
     ]
    }
   ],
   "source": [
    "# 40. Given arrays arr1 of shape (2, 3) and arr2 of shape (2, 2), perform multiplication using NumPy\n",
    "# broadcasting. Handle the shape incompatibility.\n",
    "\n",
    "arr1 = np.array([[1, 2, 3],\n",
    "                 [4, 5, 6]])\n",
    "\n",
    "\n",
    "arr2 = np.array([[2, 3],\n",
    "                 [4, 5]])\n",
    "\n",
    "\n",
    "arr2_reshaped = arr2[:, :, np.newaxis]\n",
    "\n",
    "result = arr1 * arr2_reshaped\n",
    "\n",
    "print(result)"
   ]
  },
  {
   "cell_type": "code",
   "execution_count": 73,
   "id": "b31bc982-d32b-44ae-b0a9-15dd0f84c019",
   "metadata": {},
   "outputs": [
    {
     "name": "stdout",
     "output_type": "stream",
     "text": [
      "[2.5 3.5 4.5]\n"
     ]
    }
   ],
   "source": [
    "# 41. Calculate column wise mean for the given array:\n",
    "\n",
    "arr = np.array([[1, 2, 3], [4, 5, 6]])\n",
    "\n",
    "\n",
    "arr = np.array([[1, 2, 3],\n",
    "                [4, 5, 6]])\n",
    "\n",
    "\n",
    "mean_columns = np.mean(arr, axis=0)\n",
    "\n",
    "print(mean_columns)"
   ]
  },
  {
   "cell_type": "code",
   "execution_count": 74,
   "id": "41f28936-482f-425b-9cc4-478891177e33",
   "metadata": {},
   "outputs": [
    {
     "name": "stdout",
     "output_type": "stream",
     "text": [
      "Maximum values in each row: [3 6]\n"
     ]
    }
   ],
   "source": [
    "# 42. Find maximum value in each row of the given array:\n",
    "arr = np.array([[1, 2, 3], [4, 5, 6]])\n",
    "\n",
    "\n",
    "arr = np.array([[1, 2, 3],\n",
    "                [4, 5, 6]])\n",
    "\n",
    "\n",
    "max_values = np.max(arr, axis=1)\n",
    "\n",
    "print(\"Maximum values in each row:\", max_values)\n"
   ]
  },
  {
   "cell_type": "code",
   "execution_count": 75,
   "id": "687f92a7-d20a-46a5-84d8-160ae2e73b4b",
   "metadata": {},
   "outputs": [
    {
     "name": "stdout",
     "output_type": "stream",
     "text": [
      "Indices of maximum value in each column: [1 1 1]\n"
     ]
    }
   ],
   "source": [
    "# 43. For the given array, find indices of maximum value in each column.\n",
    "arr = np.array([[1, 2, 3], [4, 5, 6]])\n",
    "\n",
    "arr = np.array([[1, 2, 3],\n",
    "                [4, 5, 6]])\n",
    "\n",
    "\n",
    "max_indices = np.argmax(arr, axis=0)\n",
    "\n",
    "print(\"Indices of maximum value in each column:\", max_indices)"
   ]
  },
  {
   "cell_type": "code",
   "execution_count": 76,
   "id": "f74c5490-323b-425a-a318-535ec0ef4aeb",
   "metadata": {},
   "outputs": [
    {
     "name": "stdout",
     "output_type": "stream",
     "text": [
      "Moving sums along rows:\n",
      "[[ 1  3  6]\n",
      " [ 4  9 15]]\n"
     ]
    }
   ],
   "source": [
    "# 44. For the given array, apply custom function to calculate moving sum along rows.\n",
    "\n",
    "arr = np.array([[1, 2, 3], [4, 5, 6]])\n",
    "\n",
    "\n",
    "arr = np.array([[1, 2, 3],\n",
    "                [4, 5, 6]])\n",
    "\n",
    "\n",
    "def moving_sum(row):\n",
    "    cumsum = np.cumsum(row) \n",
    "    return cumsum\n",
    "\n",
    "\n",
    "moving_sums = np.apply_along_axis(moving_sum, axis=1, arr=arr)\n",
    "\n",
    "print(\"Moving sums along rows:\")\n",
    "print(moving_sums)"
   ]
  },
  {
   "cell_type": "code",
   "execution_count": 2,
   "id": "1c533d43-85d3-4821-8148-ef2616928288",
   "metadata": {},
   "outputs": [
    {
     "name": "stdout",
     "output_type": "stream",
     "text": [
      "Are all elements in each column even?\n",
      "[False False False]\n"
     ]
    }
   ],
   "source": [
    "# 45. In the given array, check if all elements in each column are even.\n",
    "\n",
    "arr = np.array([[2, 4, 6], [3, 5, 7]])\n",
    "\n",
    "arr = np.array([[2, 4, 6],\n",
    "                [3, 5, 7]])\n",
    "\n",
    "\n",
    "all_even_columns = np.all(arr % 2 == 0, axis=0)\n",
    "\n",
    "print(\"Are all elements in each column even?\")\n",
    "print(all_even_columns)\n"
   ]
  },
  {
   "cell_type": "code",
   "execution_count": 3,
   "id": "5d6e1e97-d5ea-4a66-98db-4087ef31e354",
   "metadata": {},
   "outputs": [
    {
     "name": "stdout",
     "output_type": "stream",
     "text": [
      "Reshaped matrix:\n",
      "[[1 2 3]\n",
      " [4 5 6]]\n"
     ]
    }
   ],
   "source": [
    "# 46. Given a NumPy array arr, reshape it into a matrix of dimensions `m` rows and `n` columns. Return the\n",
    "# reshaped matrix.\n",
    "original_array = np.array([1, 2, 3, 4, 5, 6])\n",
    "\n",
    "original_array = np.array([1, 2, 3, 4, 5, 6])\n",
    "\n",
    "# Specify the dimensions m and n\n",
    "m = 2  # Number of rows\n",
    "n = 3  # Number of columns\n",
    "\n",
    "# Reshape the array into m rows and n columns\n",
    "reshaped_matrix = original_array.reshape(m, n)\n",
    "\n",
    "print(\"Reshaped matrix:\")\n",
    "print(reshaped_matrix)"
   ]
  },
  {
   "cell_type": "code",
   "execution_count": 5,
   "id": "b634ea74-b8e9-4feb-877e-a8f4bc7cef48",
   "metadata": {},
   "outputs": [
    {
     "name": "stdout",
     "output_type": "stream",
     "text": [
      "Flattened array:\n",
      "[1 2 3 4 5 6]\n"
     ]
    }
   ],
   "source": [
    "# 47. Create a function that takes a matrix as input and returns the flattened array.\n",
    "\n",
    "input_matrix = np.array([[1, 2, 3], [4, 5, 6]])\n",
    "\n",
    "\n",
    "def flatten_matrix(matrix):\n",
    "    return matrix.flatten()\n",
    "\n",
    "\n",
    "input_matrix = np.array([[1, 2, 3], [4, 5, 6]])\n",
    "\n",
    "\n",
    "flattened_array = flatten_matrix(input_matrix)\n",
    "\n",
    "print(\"Flattened array:\")\n",
    "print(flattened_array)"
   ]
  },
  {
   "cell_type": "code",
   "execution_count": 14,
   "id": "9321f372-5753-4816-952f-c71cdc491ed7",
   "metadata": {},
   "outputs": [
    {
     "name": "stdout",
     "output_type": "stream",
     "text": [
      "Concatenated along rows:\n",
      "[[1 2]\n",
      " [3 4]\n",
      " [5 6]\n",
      " [7 8]]\n",
      "\n",
      "Concatenated along columns:\n",
      "[[1 2 5 6]\n",
      " [3 4 7 8]]\n"
     ]
    }
   ],
   "source": [
    "# 48. Write a function that concatenates two given arrays along a specified axis.\n",
    "\n",
    "\n",
    "array1 = np.array([[1, 2], [3, 4]])\n",
    "array2 = np.array([[5, 6], [7, 8]])\n",
    "\n",
    "\n",
    "def concatenate_arrays(array1, array2, axis=0):\n",
    "    return np.concatenate((array1, array2), axis=axis)\n",
    "\n",
    "\n",
    "\n",
    "\n",
    "concatenated_rows = concatenate_arrays(array1, array2, axis=0)\n",
    "print(\"Concatenated along rows:\")\n",
    "print(concatenated_rows)\n",
    "\n",
    "\n",
    "concatenated_columns = concatenate_arrays(array1, array2, axis=1)\n",
    "print(\"\\nConcatenated along columns:\")\n",
    "print(concatenated_columns)\n"
   ]
  },
  {
   "cell_type": "code",
   "execution_count": 15,
   "id": "c68b7040-a316-472d-94d8-f09ccc602be2",
   "metadata": {},
   "outputs": [
    {
     "name": "stdout",
     "output_type": "stream",
     "text": [
      "Split along rows:\n",
      "[[1 2 3]]\n",
      "[[4 5 6]]\n",
      "[[7 8 9]]\n",
      "\n",
      "Split along columns:\n",
      "[[1]\n",
      " [4]\n",
      " [7]]\n",
      "[[2]\n",
      " [5]\n",
      " [8]]\n",
      "[[3]\n",
      " [6]\n",
      " [9]]\n"
     ]
    }
   ],
   "source": [
    "# 49. Create a function that splits an array into multiple sub-arrays along a specified axis.\n",
    "\n",
    "original_array = np.array([[1, 2, 3], [4, 5, 6], [7, 8, 9]])\n",
    "def split_array(original_array, axis=0):\n",
    "    return np.split(original_array, indices_or_sections=original_array.shape[axis], axis=axis)\n",
    "\n",
    "\n",
    "original_array = np.array([[1, 2, 3], [4, 5, 6], [7, 8, 9]])\n",
    "\n",
    "\n",
    "split_rows = split_array(original_array, axis=0)\n",
    "print(\"Split along rows:\")\n",
    "for array in split_rows:\n",
    "    print(array)\n",
    "\n",
    "\n",
    "split_columns = split_array(original_array, axis=1)\n",
    "print(\"\\nSplit along columns:\")\n",
    "for array in split_columns:\n",
    "    print(array)"
   ]
  },
  {
   "cell_type": "code",
   "execution_count": 17,
   "id": "7415a266-5b14-441b-9b13-b87bf2d0135b",
   "metadata": {},
   "outputs": [
    {
     "name": "stdout",
     "output_type": "stream",
     "text": [
      "Resulting array after insertion and deletion:\n",
      "[ 1 10 11  4  5]\n"
     ]
    }
   ],
   "source": [
    "# 50. Write a function that inserts and then deletes elements from a given array at specified indices.\n",
    "original_array = np.array([1, 2, 3, 4, 5])\n",
    "indices_to_insert = [2, 4]\n",
    "values_to_insert = [10, 11]\n",
    "indices_to_delete = [1, 3]\n",
    "\n",
    "\n",
    "def insert_and_delete_elements(original_array, indices_to_insert, values_to_insert, indices_to_delete):\n",
    "    # Insert elements\n",
    "    for idx, value in zip(indices_to_insert, values_to_insert):\n",
    "        original_array = np.insert(original_array, idx, value)\n",
    "\n",
    "    # Delete elements\n",
    "    original_array = np.delete(original_array, indices_to_delete)\n",
    "\n",
    "    return original_array\n",
    "\n",
    "\n",
    "\n",
    "result_array = insert_and_delete_elements(original_array, indices_to_insert, values_to_insert, indices_to_delete)\n",
    "\n",
    "print(\"Resulting array after insertion and deletion:\")\n",
    "print(result_array)\n"
   ]
  },
  {
   "cell_type": "code",
   "execution_count": 34,
   "id": "1f8189e9-8c71-4c0a-9cd6-33ae8ea3f169",
   "metadata": {},
   "outputs": [
    {
     "name": "stdout",
     "output_type": "stream",
     "text": [
      "arr1 (random integers):\n",
      "[38 27 79 54 64]\n",
      "\n",
      "arr2 (integers from 1 to 10):\n",
      "[1 3 6 6 1]\n",
      "\n",
      "Result (element-wise addition):\n",
      "[39 30 85 60 65]\n"
     ]
    }
   ],
   "source": [
    "# 51. Create a NumPy array `arr1` with random integers and another array `arr2` with integers from 1 to 10.\n",
    "# Perform element-wise addition between `arr1` and `arr2`.\n",
    "\n",
    "\n",
    "\n",
    "\n",
    "\n",
    "arr1 = np.random.randint(low=1, high=100, size=5)\n",
    "\n",
    "print(\"arr1 (random integers):\")\n",
    "print(arr1)\n",
    "\n",
    "arr2 = np.random.randint(1, 11, size=5)\n",
    "\n",
    "print(\"\\narr2 (integers from 1 to 10):\")\n",
    "print(arr2)\n",
    "\n",
    "result = arr1 + arr2\n",
    "\n",
    "print(\"\\nResult (element-wise addition):\")\n",
    "print(result)"
   ]
  },
  {
   "cell_type": "code",
   "execution_count": 35,
   "id": "d6057e90-fb2b-4a23-9283-bba5bf379647",
   "metadata": {},
   "outputs": [
    {
     "name": "stdout",
     "output_type": "stream",
     "text": [
      "arr1:\n",
      "[10  9  8  7  6  5  4  3  2  1]\n",
      "\n",
      "arr2:\n",
      "[ 1  2  3  4  5  6  7  8  9 10]\n",
      "\n",
      "Result of element-wise subtraction:\n",
      "[ 9  7  5  3  1 -1 -3 -5 -7 -9]\n"
     ]
    }
   ],
   "source": [
    "# 52. Generate a NumPy array `arr1` with sequential integers from 10 to 1 and another array `arr2` with integers\n",
    "# from 1 to 10. Subtract `arr2` from `arr1` element-wise.\n",
    "\n",
    "\n",
    "\n",
    "arr1 = np.arange(10, 0, -1)\n",
    "\n",
    "\n",
    "arr2 = np.arange(1, 11)\n",
    "\n",
    "\n",
    "result_array = arr1 - arr2\n",
    "\n",
    "\n",
    "print(\"arr1:\")\n",
    "print(arr1)\n",
    "print(\"\\narr2:\")\n",
    "print(arr2)\n",
    "print(\"\\nResult of element-wise subtraction:\")\n",
    "print(result_array)\n"
   ]
  },
  {
   "cell_type": "code",
   "execution_count": 43,
   "id": "ba6b26c2-4f6a-4842-9238-022fa3bee720",
   "metadata": {},
   "outputs": [
    {
     "name": "stdout",
     "output_type": "stream",
     "text": [
      "arr1:\n",
      "[[2 5 5]\n",
      " [4 8 9]\n",
      " [7 3 8]]\n",
      "\n",
      "arr2:\n",
      "[[2 6 7]\n",
      " [1 9 1]\n",
      " [4 4 4]]\n",
      "\n",
      "Result of element-wise multiplication:\n",
      "[[[ 4 30 35]\n",
      "  [ 8 48 63]\n",
      "  [14 18 56]]\n",
      "\n",
      " [[ 2 45  5]\n",
      "  [ 4 72  9]\n",
      "  [ 7 27  8]]\n",
      "\n",
      " [[ 8 20 20]\n",
      "  [16 32 36]\n",
      "  [28 12 32]]]\n"
     ]
    }
   ],
   "source": [
    "# 53. Create a NumPy array `arr1` with random integers and another array `arr2` with integers from 1 to 5.\n",
    "# Perform element-wise multiplication between `arr1` and `arr2`.\n",
    "\n",
    "\n",
    "\n",
    "arr1 = np.random.randint(1, 10, size=(3, 3))  \n",
    "\n",
    "\n",
    "arr2 = np.random.randint(1, 10, size=(3, 3))\n",
    "\n",
    "\n",
    "result_array = arr1 * arr2[:, np.newaxis]  \n",
    "\n",
    "\n",
    "print(\"arr1:\")\n",
    "print(arr1)\n",
    "print(\"\\narr2:\")\n",
    "print(arr2)\n",
    "print(\"\\nResult of element-wise multiplication:\")\n",
    "print(result_array)\n"
   ]
  },
  {
   "cell_type": "code",
   "execution_count": 44,
   "id": "c21f09f5-f4db-4d05-af7b-dd1f74c6f23d",
   "metadata": {},
   "outputs": [
    {
     "name": "stdout",
     "output_type": "stream",
     "text": [
      "arr1:\n",
      "[ 2  4  6  8 10]\n",
      "\n",
      "arr2:\n",
      "[1 2 3 4 5]\n",
      "\n",
      "Result of element-wise division:\n",
      "[2. 2. 2. 2. 2.]\n"
     ]
    }
   ],
   "source": [
    "# 54. Generate a NumPy array `arr1` with even integers from 2 to 10 and another array `arr2` with integers from 1\n",
    "# to 5. Perform element-wise division of `arr1` by `arr2`.\n",
    "\n",
    "arr1 = np.arange(2, 11, 2)\n",
    "\n",
    "# Generate arr2 with integers from 1 to 5\n",
    "arr2 = np.arange(1, 6)\n",
    "\n",
    "# Perform element-wise division between arr1 and arr2\n",
    "result_array = arr1 / arr2\n",
    "\n",
    "# Print the arrays and the result\n",
    "print(\"arr1:\")\n",
    "print(arr1)\n",
    "print(\"\\narr2:\")\n",
    "print(arr2)\n",
    "print(\"\\nResult of element-wise division:\")\n",
    "print(result_array)"
   ]
  },
  {
   "cell_type": "code",
   "execution_count": 49,
   "id": "7be944da-c817-409e-97fe-2f897e1c301d",
   "metadata": {},
   "outputs": [
    {
     "name": "stdout",
     "output_type": "stream",
     "text": [
      "arr1:\n",
      "[1 2 3 4 5]\n",
      "\n",
      "arr2 (reversed arr1):\n",
      "[5 4 3 2 1]\n",
      "\n",
      "Result of element-wise exponentiation:\n",
      "[ 1 16 27 16  5]\n"
     ]
    }
   ],
   "source": [
    "# 55. Create a NumPy array `arr1` with integers from 1 to 5 and another array `arr2` with the same numbers\n",
    "# reversed. Calculate the exponentiation of `arr1` raised to the power of `arr2` element-wise.\n",
    "\n",
    "\n",
    "arr1 = np.arange(1, 6)\n",
    "\n",
    "\n",
    "arr2 = arr1[::-1]\n",
    "\n",
    "\n",
    "result_array = arr1 ** arr2\n",
    "\n",
    "\n",
    "print(\"arr1:\")\n",
    "print(arr1)\n",
    "print(\"\\narr2 (reversed arr1):\")\n",
    "print(arr2)\n",
    "print(\"\\nResult of element-wise exponentiation:\")\n",
    "print(result_array)\n"
   ]
  },
  {
   "cell_type": "code",
   "execution_count": 54,
   "id": "e53202dc-bc13-40d3-85ff-99961f48c036",
   "metadata": {},
   "outputs": [
    {
     "name": "stdout",
     "output_type": "stream",
     "text": [
      "Number of occurrences of 'hello' in the array: 3\n"
     ]
    }
   ],
   "source": [
    "# 56. Write a function that counts the occurrences of a specific substring within a NumPy array of strings.\n",
    "arr = np.array(['hello', 'world', 'hello', 'numpy', 'hello'])\n",
    "\n",
    "\n",
    "\n",
    "def count_substring_occurrences(arr, substring):\n",
    "    \n",
    "    arr_list = arr.tolist()\n",
    "  \n",
    "    count = 0\n",
    "    \n",
    "\n",
    "    for string in arr_list:\n",
    "\n",
    "        count += string.count(substring)\n",
    "    \n",
    "    return count\n",
    "\n",
    "\n",
    "substring = 'hello'\n",
    "\n",
    "occurrences = count_substring_occurrences(arr, substring)\n",
    "print(f\"Number of occurrences of '{substring}' in the array: {occurrences}\")\n"
   ]
  },
  {
   "cell_type": "code",
   "execution_count": 61,
   "id": "40627371-5759-436c-a84b-53b9229ed7e6",
   "metadata": {},
   "outputs": [
    {
     "name": "stdout",
     "output_type": "stream",
     "text": [
      "Uppercase characters extracted:\n",
      "['H' 'W' 'O' 'A' 'I' 'G' 'P' 'T']\n"
     ]
    }
   ],
   "source": [
    "# 57. Write a function that extracts uppercase characters from a NumPy array of strings.\n",
    "\n",
    "arr = np.array(['Hello', 'World', 'OpenAI', 'GPT'])\n",
    "\n",
    "import numpy as np\n",
    "\n",
    "def extract_uppercase_characters(arr):\n",
    "    \n",
    "    arr_list = arr.tolist()\n",
    "    \n",
    "    \n",
    "    uppercase_chars = []\n",
    "    \n",
    "   \n",
    "    for string in arr_list:\n",
    "      \n",
    "        uppercase_chars.extend([char for char in string if char.isupper()])\n",
    "    \n",
    "    return np.array(uppercase_chars)\n",
    "\n",
    "\n",
    "\n",
    "uppercase_chars = extract_uppercase_characters(arr)\n",
    "print(\"Uppercase characters extracted:\")\n",
    "print(uppercase_chars)\n"
   ]
  },
  {
   "cell_type": "code",
   "execution_count": 70,
   "id": "d129414a-9045-414d-9712-b1a2f16835eb",
   "metadata": {},
   "outputs": [
    {
     "name": "stdout",
     "output_type": "stream",
     "text": [
      "Modified array:\n",
      "['orange' 'banana' 'grape' 'pineorange']\n"
     ]
    }
   ],
   "source": [
    "# 58. Write a function that replaces occurrences of a substring in a NumPy array of strings with a new string.\n",
    "arr = np.array(['apple', 'banana', 'grape', 'pineapple'])\n",
    "\n",
    "\n",
    "\n",
    "def replace_substring(arr, old_substring, new_substring):\n",
    "   \n",
    "    arr_list = arr.tolist()\n",
    "    \n",
    "   \n",
    "    modified_strings = []\n",
    " \n",
    "    for string in arr_list:\n",
    "       \n",
    "        modified_string = string.replace(old_substring, new_substring)\n",
    "        modified_strings.append(modified_string)\n",
    "    \n",
    "    return np.array(modified_strings)\n",
    "\n",
    "\n",
    "old_substring = 'apple'\n",
    "new_substring = 'orange'\n",
    "\n",
    "modified_arr = replace_substring(arr, old_substring, new_substring)\n",
    "print(\"Modified array:\")\n",
    "print(modified_arr)\n"
   ]
  },
  {
   "cell_type": "code",
   "execution_count": 71,
   "id": "5e272223-3dd5-4454-a1e5-ade8e6508c86",
   "metadata": {},
   "outputs": [
    {
     "name": "stdout",
     "output_type": "stream",
     "text": [
      "Concatenated array:\n",
      "['HelloOpen' 'WorldAI']\n"
     ]
    }
   ],
   "source": [
    "# 59. Write a function that concatenates strings in a NumPy array element-wise\n",
    "arr1 = np.array(['Hello', 'World'])\n",
    "arr2 = np.array(['Open', 'AI'])\n",
    "\n",
    "\n",
    "\n",
    "def concatenate_strings(arr1, arr2):\n",
    "\n",
    "    concatenated_arr = np.core.defchararray.add(arr1, arr2)\n",
    "    \n",
    "    return concatenated_arr\n",
    "\n",
    "\n",
    "\n",
    "concatenated_arr = concatenate_strings(arr1, arr2)\n",
    "print(\"Concatenated array:\")\n",
    "print(concatenated_arr)\n"
   ]
  },
  {
   "cell_type": "code",
   "execution_count": 72,
   "id": "36d35ca5-1416-4b80-94cb-e1a90880f965",
   "metadata": {},
   "outputs": [
    {
     "name": "stdout",
     "output_type": "stream",
     "text": [
      "Length of the longest string in the array: 9\n"
     ]
    }
   ],
   "source": [
    "# 60. Write a function that finds the length of the longest string in a NumPy array.\n",
    "\n",
    "arr = np.array(['apple', 'banana', 'grape', 'pineapple'])\n",
    "\n",
    "\n",
    "\n",
    "def longest_string_length(arr):\n",
    "\n",
    "    arr_list = arr.tolist()\n",
    "    \n",
    "\n",
    "    max_length = 0\n",
    "    \n",
    "\n",
    "    for string in arr_list:\n",
    "\n",
    "        current_length = len(string)\n",
    "        \n",
    "   \n",
    "        if current_length > max_length:\n",
    "            max_length = current_length\n",
    "    \n",
    "    return max_length\n",
    "\n",
    "max_length = longest_string_length(arr)\n",
    "print(\"Length of the longest string in the array:\", max_length)\n"
   ]
  },
  {
   "cell_type": "code",
   "execution_count": 73,
   "id": "afd896d0-5fd2-4d64-9e52-ec985d4ca3d8",
   "metadata": {},
   "outputs": [
    {
     "name": "stdout",
     "output_type": "stream",
     "text": [
      "Dataset: [113 349 668 477 115 451 205 730 595 340 938 612 320 296 670 889 537 500\n",
      " 722 708 304 760 247 572  35  47 853 392  91 206 613 548 223 880 449 473\n",
      " 981 759  54 564 278 801 819  43   9 738 115 602 894 373 452 474 305 656\n",
      " 683 709 886 533 652 422 394 637 291 359 303 765 853 210  42 716 174 551\n",
      " 174 423 292 339 986 369 801 628 263 547 955 180 851 293 726  53 818 465\n",
      "  42 928  60 544 394  90  88 189 130  89]\n",
      "\n",
      "Mean: 467.42\n",
      "Median: 458.5\n",
      "Variance: 76460.44359999998\n",
      "Standard Deviation: 276.51481623956425\n"
     ]
    }
   ],
   "source": [
    "# 61. Create a dataset of 100 random integers between 1 and 1000. Compute the mean, median, variance, and\n",
    "# standard deviation of the dataset using NumPy's functions.\n",
    "\n",
    "dataset = np.random.randint(1, 1001, size=100)\n",
    "\n",
    "# Compute statistics\n",
    "mean_value = np.mean(dataset)\n",
    "median_value = np.median(dataset)\n",
    "variance_value = np.var(dataset)\n",
    "std_deviation_value = np.std(dataset)\n",
    "\n",
    "\n",
    "print(\"Dataset:\", dataset)\n",
    "print(\"\\nMean:\", mean_value)\n",
    "print(\"Median:\", median_value)\n",
    "print(\"Variance:\", variance_value)\n",
    "print(\"Standard Deviation:\", std_deviation_value)"
   ]
  },
  {
   "cell_type": "code",
   "execution_count": 74,
   "id": "d8fc75b3-bd82-4292-b7d7-9656daf673ba",
   "metadata": {},
   "outputs": [
    {
     "name": "stdout",
     "output_type": "stream",
     "text": [
      "Dataset: [71 86 25 43 24 53 50 74  5 43 56 95 25 35 82 56 85 43 43 96 47  5 83 14\n",
      "  1 21 55 17 63 88 76 39 52 44 84 67 46 44 37 15 30 32 91 89 92  9 75 74\n",
      " 54 15]\n",
      "\n",
      "25th Percentile: 30.5\n",
      "75th Percentile: 74.75\n"
     ]
    }
   ],
   "source": [
    "# 62. Generate an array of 50 random numbers between 1 and 100. Find the 25th and 75th percentiles of the\n",
    "# dataset.\n",
    "\n",
    "dataset = np.random.randint(1, 101, size=50)\n",
    "\n",
    "# Compute percentiles\n",
    "percentile_25 = np.percentile(dataset, 25)\n",
    "percentile_75 = np.percentile(dataset, 75)\n",
    "\n",
    "# Print the results\n",
    "print(\"Dataset:\", dataset)\n",
    "print(\"\\n25th Percentile:\", percentile_25)\n",
    "print(\"75th Percentile:\", percentile_75)"
   ]
  },
  {
   "cell_type": "code",
   "execution_count": 75,
   "id": "da2b50bb-6df3-4985-8fce-36c78edde5aa",
   "metadata": {},
   "outputs": [
    {
     "name": "stdout",
     "output_type": "stream",
     "text": [
      "Set 1: [1 2 3 4 5]\n",
      "Set 2: [ 2  4  6  8 10]\n",
      "\n",
      "Correlation coefficient between Set 1 and Set 2: 0.9999999999999999\n"
     ]
    }
   ],
   "source": [
    "# 63. Create two arrays representing two sets of variables. Compute the correlation coefficient between these\n",
    "# arrays using NumPy's `corrcoef` function\n",
    "\n",
    "\n",
    "set1 = np.array([1, 2, 3, 4, 5])\n",
    "set2 = np.array([2, 4, 6, 8, 10])\n",
    "\n",
    "\n",
    "corr_matrix = np.corrcoef(set1, set2)\n",
    "\n",
    "\n",
    "corr_coefficient = corr_matrix[0, 1]\n",
    "\n",
    "\n",
    "print(\"Set 1:\", set1)\n",
    "print(\"Set 2:\", set2)\n",
    "print(\"\\nCorrelation coefficient between Set 1 and Set 2:\", corr_coefficient)\n"
   ]
  },
  {
   "cell_type": "code",
   "execution_count": 77,
   "id": "61ef02be-3342-4c8f-a90a-d169897a7cc7",
   "metadata": {},
   "outputs": [
    {
     "name": "stdout",
     "output_type": "stream",
     "text": [
      "Matrix 1:\n",
      "[[1 2 3]\n",
      " [4 5 6]]\n",
      "\n",
      "Matrix 2:\n",
      "[[ 7  8]\n",
      " [ 9 10]\n",
      " [11 12]]\n",
      "\n",
      "Result of matrix multiplication:\n",
      "[[ 58  64]\n",
      " [139 154]]\n"
     ]
    }
   ],
   "source": [
    "# 64. Create two matrices and perform matrix multiplication using NumPy's `dot` function\n",
    "\n",
    "\n",
    "matrix1 = np.array([[1, 2, 3],\n",
    "                    [4, 5, 6]])\n",
    "\n",
    "matrix2 = np.array([[7, 8],\n",
    "                    [9, 10],\n",
    "                    [11, 12]])\n",
    "\n",
    "\n",
    "result_matrix = np.dot(matrix1, matrix2)\n",
    "\n",
    "\n",
    "print(\"Matrix 1:\")\n",
    "print(matrix1)\n",
    "print(\"\\nMatrix 2:\")\n",
    "print(matrix2)\n",
    "print(\"\\nResult of matrix multiplication:\")\n",
    "print(result_matrix)\n",
    "\n"
   ]
  },
  {
   "cell_type": "code",
   "execution_count": 78,
   "id": "a9ee6d62-ee34-47bc-aab5-ef0db7a25534",
   "metadata": {},
   "outputs": [
    {
     "name": "stdout",
     "output_type": "stream",
     "text": [
      "Dataset: [751 154 698 666 675 403 910 619 111 611 873 690 736 788 690 515 772 983\n",
      " 255 376 221 804 893 698 176 646 134 765  28 350 880 598 582  90 449 481\n",
      " 617 643 935 817 464 315 870 537  19 270 308 254 813 363]\n",
      "\n",
      "10th Percentile: 152.0\n",
      "50th Percentile (Median): 614.0\n",
      "90th Percentile: 873.7\n",
      "1st Quartile: 323.75\n",
      "3rd Quartile: 761.5\n"
     ]
    }
   ],
   "source": [
    "# 65. Create an array of 50 integers between 10 and 1000. Calculate the 10th, 50th (median), and 90th\n",
    "# percentiles along with the first and third quartiles.\n",
    "\n",
    "\n",
    "dataset = np.random.randint(10, 1001, size=50)\n",
    "\n",
    "\n",
    "percentile_10 = np.percentile(dataset, 10)\n",
    "percentile_50 = np.percentile(dataset, 50)  # Median\n",
    "percentile_90 = np.percentile(dataset, 90)\n",
    "quartile_1 = np.percentile(dataset, 25)\n",
    "quartile_3 = np.percentile(dataset, 75)\n",
    "\n",
    "\n",
    "print(\"Dataset:\", dataset)\n",
    "print(\"\\n10th Percentile:\", percentile_10)\n",
    "print(\"50th Percentile (Median):\", percentile_50)\n",
    "print(\"90th Percentile:\", percentile_90)\n",
    "print(\"1st Quartile:\", quartile_1)\n",
    "print(\"3rd Quartile:\", quartile_3)\n"
   ]
  },
  {
   "cell_type": "code",
   "execution_count": 79,
   "id": "584c6a4b-7646-4fe5-8617-9d0f7476790e",
   "metadata": {},
   "outputs": [
    {
     "name": "stdout",
     "output_type": "stream",
     "text": [
      "Array: [10 20 30 40 50]\n",
      "Index of element 30 : [2]\n"
     ]
    }
   ],
   "source": [
    "# 66. Create a NumPy array of integers and find the index of a specific element.\n",
    "\n",
    "arr = np.array([10, 20, 30, 40, 50])\n",
    "\n",
    "\n",
    "element_to_find = 30\n",
    "\n",
    "index = np.where(arr == element_to_find)[0]\n",
    "\n",
    "print(\"Array:\", arr)\n",
    "print(\"Index of element\", element_to_find, \":\", index)"
   ]
  },
  {
   "cell_type": "code",
   "execution_count": 80,
   "id": "5934126c-4afb-4233-9ea3-0ee26eeb1d2d",
   "metadata": {},
   "outputs": [
    {
     "name": "stdout",
     "output_type": "stream",
     "text": [
      "Random Array (Floats): [0.80125777 0.51292921 0.99617444 0.26292965 0.68426657 0.1134504\n",
      " 0.06250049 0.7651008  0.43541382 0.10780494]\n",
      "Sorted Array (Floats): [0.06250049 0.10780494 0.1134504  0.26292965 0.43541382 0.51292921\n",
      " 0.68426657 0.7651008  0.80125777 0.99617444]\n"
     ]
    }
   ],
   "source": [
    "# 67. Generate a random NumPy array and sort it in ascending order.\n",
    "\n",
    "\n",
    "random_array = np.random.rand(10) \n",
    "print(\"Random Array (Floats):\", random_array)\n",
    "\n",
    "sorted_array = np.sort(random_array)\n",
    "print(\"Sorted Array (Floats):\", sorted_array)\n"
   ]
  },
  {
   "cell_type": "code",
   "execution_count": 81,
   "id": "3190db3a-9c34-4b47-9afd-bb8cbbbf58fc",
   "metadata": {},
   "outputs": [
    {
     "name": "stdout",
     "output_type": "stream",
     "text": [
      "Original Array: [12 25  6 42  8 30]\n",
      "Filtered Array (elements > 20): [25 42 30]\n"
     ]
    }
   ],
   "source": [
    "# 68. Filter elements >20  in the given NumPy array.\n",
    "arr = np.array([12, 25, 6, 42, 8, 30])\n",
    "\n",
    "\n",
    "arr = np.array([12, 25, 6, 42, 8, 30])\n",
    "\n",
    "\n",
    "filtered_array = arr[arr > 20]\n",
    "\n",
    "\n",
    "print(\"Original Array:\", arr)\n",
    "print(\"Filtered Array (elements > 20):\", filtered_array)\n"
   ]
  },
  {
   "cell_type": "code",
   "execution_count": 82,
   "id": "34e4310b-cfbd-4083-a3a2-f40af6b289f1",
   "metadata": {},
   "outputs": [
    {
     "name": "stdout",
     "output_type": "stream",
     "text": [
      "Original Array: [ 1  5  8 12 15]\n",
      "Filtered Array (elements divisible by 3): [12 15]\n"
     ]
    }
   ],
   "source": [
    "# 69. Filter elements which are divisible by 3 from a given NumPy array.\n",
    "arr = np.array([1, 5, 8, 12, 15])\n",
    "\n",
    "\n",
    "\n",
    "filtered_array = arr[arr % 3 == 0]\n",
    "\n",
    "print(\"Original Array:\", arr)\n",
    "print(\"Filtered Array (elements divisible by 3):\", filtered_array)\n"
   ]
  },
  {
   "cell_type": "code",
   "execution_count": 84,
   "id": "091c6885-e158-4abe-9514-ae2e13629275",
   "metadata": {},
   "outputs": [
    {
     "name": "stdout",
     "output_type": "stream",
     "text": [
      "Original Array: [10 20 30 40 50]\n",
      "Filtered Array (elements divisible by 3): [20 30 40]\n"
     ]
    }
   ],
   "source": [
    "# 70. Filter elements which are ≥ 20 and ≤ 40 from a given NumPy array.\n",
    "arr = np.array([10, 20, 30, 40, 50])\n",
    "\n",
    "filtered_array = arr[(arr >= 20) & (arr <= 40)]\n",
    "print(\"Original Array:\", arr)\n",
    "print(\"Filtered Array (elements divisible by 3):\", filtered_array)"
   ]
  },
  {
   "cell_type": "code",
   "execution_count": 7,
   "id": "d632295e-e795-49fe-983b-8645f67f2880",
   "metadata": {},
   "outputs": [
    {
     "name": "stdout",
     "output_type": "stream",
     "text": [
      "The byte order of the array is: =\n"
     ]
    }
   ],
   "source": [
    "# 71. For the given NumPy array, check its byte order using the `dtype` attribute byteorder\n",
    "arr = np.array([1, 2, 3])\n",
    "\n",
    "byte_order = arr.dtype.byteorder\n",
    "\n",
    "print(f\"The byte order of the array is: {byte_order}\")"
   ]
  },
  {
   "cell_type": "code",
   "execution_count": 10,
   "id": "e3fab1c0-7b8a-45c0-9ad8-c42594d65db0",
   "metadata": {},
   "outputs": [
    {
     "name": "stdout",
     "output_type": "stream",
     "text": [
      "Modified array after byte swapping:\n",
      "[16777216 33554432 50331648]\n"
     ]
    }
   ],
   "source": [
    "# 72. For the given NumPy array, perform byte swapping in place using `byteswap()`.\n",
    "arr = np.array([1, 2, 3], dtype=np.int32)\n",
    "\n",
    "arr.byteswap(True)\n",
    "\n",
    "print(\"Modified array after byte swapping:\")\n",
    "print(arr)"
   ]
  },
  {
   "cell_type": "code",
   "execution_count": 11,
   "id": "156ef40c-91f4-4a9a-bdc5-235ce3e3897e",
   "metadata": {},
   "outputs": [
    {
     "name": "stdout",
     "output_type": "stream",
     "text": [
      "Original array:\n",
      "[1 2 3]\n",
      "\n",
      "Swapped array (new byte order):\n",
      "[16777216 33554432 50331648]\n"
     ]
    }
   ],
   "source": [
    "# 73. For the given NumPy array, swap its byte order without modifying the original array using\n",
    "# `newbyteorder()`.\n",
    "arr = np.array([1, 2, 3], dtype=np.int32)\n",
    "\n",
    "swapped_arr = arr.newbyteorder('S') \n",
    "\n",
    "print(\"Original array:\")\n",
    "print(arr)\n",
    "\n",
    "print(\"\\nSwapped array (new byte order):\")\n",
    "print(swapped_arr)\n"
   ]
  },
  {
   "cell_type": "code",
   "execution_count": 12,
   "id": "8061a522-5900-4af7-9c58-566d8792a4ce",
   "metadata": {},
   "outputs": [
    {
     "name": "stdout",
     "output_type": "stream",
     "text": [
      "Original array:\n",
      "[1 2 3]\n",
      "\n",
      "Swapped array (based on system endianness):\n",
      "[16777216 33554432 50331648]\n"
     ]
    }
   ],
   "source": [
    "# 74. For the given NumPy array and swap its byte order conditionally based on system endianness using\n",
    "# `newbyteorder()`.\n",
    "arr = np.array([1, 2, 3], dtype=np.int32)\n",
    "\n",
    "swapped_arr = arr.newbyteorder()\n",
    "\n",
    "print(\"Original array:\")\n",
    "print(arr)\n",
    "\n",
    "print(\"\\nSwapped array (based on system endianness):\")\n",
    "print(swapped_arr)"
   ]
  },
  {
   "cell_type": "code",
   "execution_count": 13,
   "id": "3e707a1a-5965-4b0c-b08b-075bc71920d2",
   "metadata": {},
   "outputs": [
    {
     "name": "stdout",
     "output_type": "stream",
     "text": [
      "Byte order matches native system byte order. No byte swapping needed.\n"
     ]
    }
   ],
   "source": [
    "# 75. For the given NumPy array, check if byte swapping is necessary for the current system using `dtype`\n",
    "# attribute `byteorder`.\n",
    "arr = np.array([1, 2, 3], dtype=np.int32)\n",
    "\n",
    "byte_order = arr.dtype.byteorder\n",
    "\n",
    "if byte_order == '=':\n",
    "    print(\"Byte order matches native system byte order. No byte swapping needed.\")\n",
    "else:\n",
    "    print(\"Byte order does not match native system byte order. Byte swapping may be necessary.\")"
   ]
  },
  {
   "cell_type": "code",
   "execution_count": 18,
   "id": "5ccb8ff5-0c37-43ef-b7c8-3cca141c5ed6",
   "metadata": {},
   "outputs": [
    {
     "name": "stdout",
     "output_type": "stream",
     "text": [
      "Original_arr after modification in copy_arr [6 1 9 2 1 7 4 4 9 3]\n",
      "Modified Copy_arr [100   1   9   2   1   7   4   4   9   3]\n"
     ]
    }
   ],
   "source": [
    "# 76. Create a NumPy array `arr1` with values from 1 to 10. Create a copy of `arr1` named `copy_arr` and modify\n",
    "# an element in `copy_arr`. Check if modifying `copy_arr` affects `arr1`.\n",
    "\n",
    "arr1=np.random.randint(1,10,10)\n",
    "copy_arr=arr1.copy()\n",
    "copy_arr[0]=100\n",
    "print(\"Original_arr after modification in copy_arr\",arr1)\n",
    "print(\"Modified Copy_arr\",copy_arr)"
   ]
  },
  {
   "cell_type": "code",
   "execution_count": 19,
   "id": "cf81ddd9-6c08-410c-9720-8adc5302ea6c",
   "metadata": {},
   "outputs": [
    {
     "name": "stdout",
     "output_type": "stream",
     "text": [
      "Original matrix:\n",
      "[[8 5 9]\n",
      " [2 3 9]\n",
      " [6 5 4]]\n",
      "\n",
      "View slice:\n",
      "[[3 9]\n",
      " [5 4]]\n",
      "\n",
      "Modified view slice:\n",
      "[[100   9]\n",
      " [  5   4]]\n"
     ]
    }
   ],
   "source": [
    "# 77. Create a 2D NumPy array `matrix` of shape (3, 3) with random integers. Extract a slice `view_slice` from\n",
    "# the matrix. Modify an element in `view_slice` and observe if it changes the original `matrix`.\n",
    "\n",
    "matrix = np.random.randint(1, 10, size=(3, 3))\n",
    "print(\"Original matrix:\")\n",
    "print(matrix)\n",
    "\n",
    "view_slice = matrix[1:, 1:]\n",
    "print(\"\\nView slice:\")\n",
    "print(view_slice)\n",
    "\n",
    "view_slice[0, 0] = 100  \n",
    "\n",
    "print(\"\\nModified view slice:\")\n",
    "print(view_slice)"
   ]
  },
  {
   "cell_type": "code",
   "execution_count": 21,
   "id": "a293bbda-fb67-40e1-baa9-9cda03359cdb",
   "metadata": {},
   "outputs": [
    {
     "name": "stdout",
     "output_type": "stream",
     "text": [
      "Original array_a:\n",
      "[[ 1  2  3]\n",
      " [ 4  5  6]\n",
      " [ 7  8  9]\n",
      " [10 11 12]]\n",
      "\n",
      "View slice (view_b):\n",
      "[[ 8  9]\n",
      " [11 12]]\n",
      "\n",
      "Modified view_b:\n",
      "[[13 14]\n",
      " [16 17]]\n",
      "\n",
      "Original array_a after modification in view_b:\n",
      "[[ 1  2  3]\n",
      " [ 4  5  6]\n",
      " [ 7 13 14]\n",
      " [10 16 17]]\n"
     ]
    }
   ],
   "source": [
    "# 78. Create a NumPy array `array_a` of shape (4, 3) with sequential integers from 1 to 12. Extract a slice\n",
    "# `view_b` from `array_a` and broadcast the addition of 5 to view_b. Check if it alters the original `array_a`.\n",
    "\n",
    "array_a = np.arange(1, 13).reshape(4, 3)\n",
    "print(\"Original array_a:\")\n",
    "print(array_a)\n",
    "\n",
    "view_b = array_a[2:, 1:]  \n",
    "print(\"\\nView slice (view_b):\")\n",
    "print(view_b)\n",
    "\n",
    "view_b += 5\n",
    "\n",
    "print(\"\\nModified view_b:\")\n",
    "print(view_b)\n",
    "\n",
    "print(\"\\nOriginal array_a after modification in view_b:\")\n",
    "print(array_a)\n"
   ]
  },
  {
   "cell_type": "code",
   "execution_count": 22,
   "id": "63cf9b9e-1f11-4e82-9477-d9b11bf22c29",
   "metadata": {},
   "outputs": [
    {
     "name": "stdout",
     "output_type": "stream",
     "text": [
      "Original orig_array:\n",
      "[[1 2 3 4]\n",
      " [5 6 7 8]]\n",
      "\n",
      "Reshaped view (reshaped_view):\n",
      "[[1 2]\n",
      " [3 4]\n",
      " [5 6]\n",
      " [7 8]]\n",
      "\n",
      "Modified reshaped_view:\n",
      "[[100   2]\n",
      " [  3   4]\n",
      " [  5   6]\n",
      " [  7   8]]\n",
      "\n",
      "Original orig_array after modification in reshaped_view:\n",
      "[[100   2   3   4]\n",
      " [  5   6   7   8]]\n"
     ]
    }
   ],
   "source": [
    "# 79. Create a NumPy array `orig_array` of shape (2, 4) with values from 1 to 8. Create a reshaped view\n",
    "# `reshaped_view` of shape (4, 2) from orig_array. Modify an element in `reshaped_view` and check if it\n",
    "# reflects changes in the original `orig_array`.\n",
    "\n",
    "\n",
    "orig_array = np.arange(1, 9).reshape(2, 4)\n",
    "print(\"Original orig_array:\")\n",
    "print(orig_array)\n",
    "\n",
    "reshaped_view = orig_array.reshape(4, 2)\n",
    "print(\"\\nReshaped view (reshaped_view):\")\n",
    "print(reshaped_view)\n",
    "\n",
    "\n",
    "reshaped_view[0, 0] = 100 \n",
    "\n",
    "print(\"\\nModified reshaped_view:\")\n",
    "print(reshaped_view)\n",
    "\n",
    "print(\"\\nOriginal orig_array after modification in reshaped_view:\")\n",
    "print(orig_array)"
   ]
  },
  {
   "cell_type": "code",
   "execution_count": 23,
   "id": "e3b652e9-285e-4c41-a0a0-246b6a76dbd5",
   "metadata": {},
   "outputs": [
    {
     "name": "stdout",
     "output_type": "stream",
     "text": [
      "Original data:\n",
      "[[2 7 9 1]\n",
      " [4 5 9 8]\n",
      " [8 3 2 9]]\n",
      "\n",
      "Copy of elements greater than 5 (data_copy):\n",
      "[7 9 9 8 8 9]\n",
      "\n",
      "Modified data_copy:\n",
      "[100   9   9   8   8   9]\n",
      "\n",
      "Original data after modification in data_copy:\n",
      "[[2 7 9 1]\n",
      " [4 5 9 8]\n",
      " [8 3 2 9]]\n"
     ]
    }
   ],
   "source": [
    "# 80. Create a NumPy array `data` of shape (3, 4) with random integers. Extract a copy `data_copy` of\n",
    "# elements greater than 5. Modify an element in `data_copy` and verify if it affects the original `data`.\n",
    "\n",
    "\n",
    "data = np.random.randint(1, 10, size=(3, 4))\n",
    "print(\"Original data:\")\n",
    "print(data)\n",
    "\n",
    "data_copy = data[data > 5].copy()\n",
    "print(\"\\nCopy of elements greater than 5 (data_copy):\")\n",
    "print(data_copy)\n",
    "\n",
    "data_copy[0] = 100  \n",
    "\n",
    "\n",
    "print(\"\\nModified data_copy:\")\n",
    "print(data_copy)\n",
    "\n",
    "print(\"\\nOriginal data after modification in data_copy:\")\n",
    "print(data)\n"
   ]
  },
  {
   "cell_type": "code",
   "execution_count": 24,
   "id": "96ea15cc-22d3-4526-a33c-c4517580e133",
   "metadata": {},
   "outputs": [
    {
     "name": "stdout",
     "output_type": "stream",
     "text": [
      "Matrix A:\n",
      "[[1 2 3]\n",
      " [4 5 6]]\n",
      "\n",
      "Matrix B:\n",
      "[[ 7  8  9]\n",
      " [10 11 12]]\n",
      "\n",
      "Addition result (A + B):\n",
      "[[ 8 10 12]\n",
      " [14 16 18]]\n",
      "\n",
      "Subtraction result (A - B):\n",
      "[[-6 -6 -6]\n",
      " [-6 -6 -6]]\n"
     ]
    }
   ],
   "source": [
    "# 81. Create two matrices A and B of identical shape containing integers and perform addition and subtraction\n",
    "# operations between them.\n",
    "\n",
    "\n",
    "A = np.array([[1, 2, 3],\n",
    "              [4, 5, 6]])\n",
    "\n",
    "B = np.array([[7, 8, 9],\n",
    "              [10, 11, 12]])\n",
    "\n",
    "\n",
    "addition_result = A + B\n",
    "\n",
    "\n",
    "subtraction_result = A - B\n",
    "\n",
    "print(\"Matrix A:\")\n",
    "print(A)\n",
    "\n",
    "print(\"\\nMatrix B:\")\n",
    "print(B)\n",
    "\n",
    "print(\"\\nAddition result (A + B):\")\n",
    "print(addition_result)\n",
    "\n",
    "print(\"\\nSubtraction result (A - B):\")\n",
    "print(subtraction_result)\n"
   ]
  },
  {
   "cell_type": "code",
   "execution_count": 25,
   "id": "47b3cdad-5be8-47ee-9f62-8753485471c7",
   "metadata": {},
   "outputs": [
    {
     "name": "stdout",
     "output_type": "stream",
     "text": [
      "Matrix A:\n",
      "[[1 2 3]\n",
      " [4 5 6]]\n",
      "\n",
      "Matrix B:\n",
      "[[ 7  8  9]\n",
      " [10 11 12]]\n",
      "\n",
      "Addition result (A + B):\n",
      "[[ 8 10 12]\n",
      " [14 16 18]]\n",
      "\n",
      "Subtraction result (A - B):\n",
      "[[-6 -6 -6]\n",
      " [-6 -6 -6]]\n"
     ]
    }
   ],
   "source": [
    "# 82. Generate two matrices `C` (3x2) and `D` (2x4) and perform matrix multiplication\n",
    "\n",
    "A = np.array([[1, 2, 3],\n",
    "              [4, 5, 6]])\n",
    "\n",
    "B = np.array([[7, 8, 9],\n",
    "              [10, 11, 12]])\n",
    "\n",
    "addition_result = A + B\n",
    "\n",
    "subtraction_result = A - B\n",
    "\n",
    "print(\"Matrix A:\")\n",
    "print(A)\n",
    "\n",
    "print(\"\\nMatrix B:\")\n",
    "print(B)\n",
    "\n",
    "print(\"\\nAddition result (A + B):\")\n",
    "print(addition_result)\n",
    "\n",
    "print(\"\\nSubtraction result (A - B):\")\n",
    "print(subtraction_result)"
   ]
  },
  {
   "cell_type": "code",
   "execution_count": 26,
   "id": "b8df7723-5dfb-4b2b-ac8a-00140965a34e",
   "metadata": {},
   "outputs": [
    {
     "name": "stdout",
     "output_type": "stream",
     "text": [
      "Matrix E:\n",
      "[[1 2 3]\n",
      " [4 5 6]]\n",
      "\n",
      "Transpose of matrix E:\n",
      "[[1 4]\n",
      " [2 5]\n",
      " [3 6]]\n"
     ]
    }
   ],
   "source": [
    "# 83. Create a matrix `E` and find its transpose.\n",
    "\n",
    "E = np.array([[1, 2, 3],\n",
    "              [4, 5, 6]])\n",
    "\n",
    "# Find the transpose of matrix E\n",
    "E_transpose = E.T\n",
    "\n",
    "# Print matrix E and its transpose\n",
    "print(\"Matrix E:\")\n",
    "print(E)\n",
    "\n",
    "print(\"\\nTranspose of matrix E:\")\n",
    "print(E_transpose)"
   ]
  },
  {
   "cell_type": "code",
   "execution_count": 27,
   "id": "5edb1004-c486-42c2-9845-2494ec0661d2",
   "metadata": {},
   "outputs": [
    {
     "name": "stdout",
     "output_type": "stream",
     "text": [
      "Matrix F:\n",
      "[[1 2 3]\n",
      " [4 5 6]\n",
      " [7 8 9]]\n",
      "\n",
      "Determinant of matrix F:\n",
      "0.0\n"
     ]
    }
   ],
   "source": [
    "# 84. Generate a square matrix `F` and compute its determinant.\n",
    "\n",
    "F = np.array([[1, 2, 3],\n",
    "              [4, 5, 6],\n",
    "              [7, 8, 9]])\n",
    "\n",
    "# Compute the determinant of F\n",
    "determinant_F = np.linalg.det(F)\n",
    "\n",
    "# Print the matrix F and its determinant\n",
    "print(\"Matrix F:\")\n",
    "print(F)\n",
    "\n",
    "print(\"\\nDeterminant of matrix F:\")\n",
    "print(determinant_F)"
   ]
  },
  {
   "cell_type": "code",
   "execution_count": 28,
   "id": "49a203db-1648-4530-8eef-cc492e922279",
   "metadata": {},
   "outputs": [
    {
     "name": "stdout",
     "output_type": "stream",
     "text": [
      "Matrix G is singular and its inverse does not exist.\n"
     ]
    }
   ],
   "source": [
    "# 85. Create a square matrix `G` and find its inverse.\n",
    "\n",
    "G = np.array([[1, 2, 3],\n",
    "              [4, 5, 6],\n",
    "              [7, 8, 9]])\n",
    "\n",
    "# Compute the inverse of G\n",
    "try:\n",
    "    G_inv = np.linalg.inv(G)\n",
    "    print(\"Inverse of matrix G:\")\n",
    "    print(G_inv)\n",
    "except np.linalg.LinAlgError:\n",
    "    print(\"Matrix G is singular and its inverse does not exist.\")"
   ]
  },
  {
   "cell_type": "code",
   "execution_count": null,
   "id": "e36cc8ef-2785-4c71-8e39-1fddbc5abf4c",
   "metadata": {},
   "outputs": [],
   "source": []
  }
 ],
 "metadata": {
  "kernelspec": {
   "display_name": "Python 3 (ipykernel)",
   "language": "python",
   "name": "python3"
  },
  "language_info": {
   "codemirror_mode": {
    "name": "ipython",
    "version": 3
   },
   "file_extension": ".py",
   "mimetype": "text/x-python",
   "name": "python",
   "nbconvert_exporter": "python",
   "pygments_lexer": "ipython3",
   "version": "3.10.8"
  }
 },
 "nbformat": 4,
 "nbformat_minor": 5
}
