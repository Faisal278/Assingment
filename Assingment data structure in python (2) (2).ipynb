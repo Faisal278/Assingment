{
 "cells": [
  {
   "cell_type": "code",
   "execution_count": 2,
   "id": "77c70727-a853-4c5c-8d01-d7efba1503a5",
   "metadata": {},
   "outputs": [
    {
     "name": "stdout",
     "output_type": "stream",
     "text": [
      "Enter the string:  Faisal is good boy\n"
     ]
    },
    {
     "name": "stdout",
     "output_type": "stream",
     "text": [
      "The reverse string is yob doog si lasiaF\n"
     ]
    }
   ],
   "source": [
    "# 1. Write a code to reverse a string.\n",
    "\n",
    "# code\n",
    "\n",
    "string=input(\"Enter the string: \")\n",
    "reverse_string=string[::-1]\n",
    "print(f\"The reverse string is {reverse_string}\")"
   ]
  },
  {
   "cell_type": "code",
   "execution_count": 6,
   "id": "87baa814-106a-4a04-9b81-12d3f7cd48dd",
   "metadata": {},
   "outputs": [
    {
     "name": "stdout",
     "output_type": "stream",
     "text": [
      "Enter the sentence:  I am a good boy\n"
     ]
    },
    {
     "name": "stdout",
     "output_type": "stream",
     "text": [
      "the numbers of vovel present in the string are 6\n"
     ]
    }
   ],
   "source": [
    "# 2. Write a code to count the number of vowels in a string.\n",
    "\n",
    "#code\n",
    "\n",
    "input_string=input(\"Enter the sentence: \")\n",
    "count=0\n",
    "string=input_string.lower()\n",
    "for vovel in string:\n",
    "    if vovel==(\"a\") or  vovel==(\"e\") or vovel==(\"i\") or vovel==(\"o\") or vovel==(\"u\"): \n",
    "        count+=1\n",
    "if count == 0:\n",
    "    print('their is no vovel in the sentence')\n",
    "else:\n",
    "    print (f'the numbers of vovel present in the string are {count}')"
   ]
  },
  {
   "cell_type": "code",
   "execution_count": 1,
   "id": "81e3938c-e9b5-45c3-9afd-634f23d17698",
   "metadata": {},
   "outputs": [
    {
     "name": "stdout",
     "output_type": "stream",
     "text": [
      "Enter a string  madam\n"
     ]
    },
    {
     "name": "stdout",
     "output_type": "stream",
     "text": [
      "Yes, it's a palindrome!\n"
     ]
    }
   ],
   "source": [
    "# 3. Write a code to check if a given string is a palindrome or not.\n",
    "\n",
    "# code \n",
    "\n",
    "input_string = input(\"Enter a string \")\n",
    "cleaned_string = input_string.lower().replace(\" \", \"\") \n",
    "if cleaned_string == cleaned_string[::-1]:\n",
    "    print(\"Yes, it's a palindrome!\")\n",
    "else:\n",
    "    print(\"No, it's not a palindrome.\")"
   ]
  },
  {
   "cell_type": "code",
   "execution_count": 3,
   "id": "70025274-cea9-4603-885e-03cbe65e3e7f",
   "metadata": {},
   "outputs": [
    {
     "name": "stdout",
     "output_type": "stream",
     "text": [
      "Enter the first string:  listen\n",
      "Enter the second string:  silent\n"
     ]
    },
    {
     "name": "stdout",
     "output_type": "stream",
     "text": [
      "Yes, the strings are anagrams!\n"
     ]
    }
   ],
   "source": [
    "# 4. Write a code to check if two given strings are anagrams of each other.\n",
    "\n",
    "# code\n",
    "\n",
    "def are_anagrams(s1, s2):\n",
    "    return sorted(s1.lower()) == sorted(s2.lower())\n",
    "\n",
    "string1 = input(\"Enter the first string: \")\n",
    "string2 = input(\"Enter the second string: \")\n",
    "\n",
    "if are_anagrams(string1, string2):\n",
    "    print(\"Yes, the strings are anagrams!\")\n",
    "else:\n",
    "    print(\"No, the strings are not anagrams.\")"
   ]
  },
  {
   "cell_type": "code",
   "execution_count": 5,
   "id": "a47f9ac5-8869-4faf-bb47-a36bf54d8d0f",
   "metadata": {},
   "outputs": [
    {
     "name": "stdout",
     "output_type": "stream",
     "text": [
      "[0, 7, 20]\n"
     ]
    }
   ],
   "source": [
    "# 5. Write a code to find all occurrences of a given substring within another string\n",
    "\n",
    "# code\n",
    "\n",
    "def find_substring_occurrences(main_string, substring):\n",
    "    occurrences = []\n",
    "    len_substring = len(substring)\n",
    "    len_main = len(main_string)\n",
    "    \n",
    "    for i in range(len_main - len_substring + 1):\n",
    "        if main_string[i:i + len_substring] == substring:\n",
    "            occurrences.append(i)\n",
    "    \n",
    "    return occurrences\n",
    "\n",
    "# Example usage:\n",
    "main_string = \"hello, hello world, hello universe\"\n",
    "substring = \"hello\"\n",
    "print(find_substring_occurrences(main_string, substring))\n"
   ]
  },
  {
   "cell_type": "code",
   "execution_count": 9,
   "id": "65044fe6-ea07-45ab-bc41-74e495859fdd",
   "metadata": {},
   "outputs": [
    {
     "name": "stdout",
     "output_type": "stream",
     "text": [
      "Compressed string: a2b1c5a3\n",
      "Compressed string: abcdef\n"
     ]
    }
   ],
   "source": [
    "# 6. Write a code to perform basic string compression using the counts of repeated characters.\n",
    "\n",
    "# code\n",
    "\n",
    "def compress_string(s):\n",
    "    compressed = []\n",
    "    count = 1\n",
    "    for i in range(1, len(s)):\n",
    "        if s[i] == s[i - 1]:\n",
    "            count += 1\n",
    "        else:\n",
    "            compressed.append(s[i - 1] + str(count))\n",
    "            count = 1\n",
    "    \n",
    "    # Append the last character and its count\n",
    "    compressed.append(s[-1] + str(count))\n",
    "    \n",
    "    # Join compressed list into a string\n",
    "    compressed_str = ''.join(compressed)\n",
    "    \n",
    "    # Check if compressed string is shorter than origina\n",
    "    if len(compressed_str) < len(s):\n",
    "        return compressed_str\n",
    "    else:\n",
    "        return s\n",
    "\n",
    "# Example usage:\n",
    "original_string = \"aabcccccaaa\"\n",
    "compressed_string = compress_string(original_string)\n",
    "print(\"Compressed string:\", compressed_string) \n",
    "\n",
    "original_string2 = \"abcdef\"\n",
    "compressed_string2 = compress_string(original_string2)\n",
    "print(\"Compressed string:\", compressed_string2) "
   ]
  },
  {
   "cell_type": "code",
   "execution_count": 13,
   "id": "38661aca-75e6-48c1-abd4-e7d3b77d6f7c",
   "metadata": {},
   "outputs": [
    {
     "name": "stdout",
     "output_type": "stream",
     "text": [
      "Enter the string:  abcde fghij\n"
     ]
    },
    {
     "data": {
      "text/plain": [
       "True"
      ]
     },
     "execution_count": 13,
     "metadata": {},
     "output_type": "execute_result"
    }
   ],
   "source": [
    "# 7. Write a code to determine if a string has all unique characters.\n",
    "\n",
    "# Code\n",
    "\n",
    "def has_unique_characters(s):\n",
    "    seen = set()\n",
    "    for char in s:\n",
    "        if char in seen:\n",
    "            return False\n",
    "        seen.add(char)\n",
    "    return True\n",
    "s=input(\"Enter the string: \")\n",
    "has_unique_characters(s)"
   ]
  },
  {
   "cell_type": "code",
   "execution_count": 23,
   "id": "525ecee7-b5d2-4057-a741-c5c9d0d1d4d6",
   "metadata": {},
   "outputs": [
    {
     "name": "stdout",
     "output_type": "stream",
     "text": [
      "Enter any string: I am learning from PWSKILLS\n"
     ]
    },
    {
     "name": "stdout",
     "output_type": "stream",
     "text": [
      "Uppercase of string : I AM LEARNING FROM PWSKILLS\n",
      "lowercase of string : i am learning from pwskills\n"
     ]
    }
   ],
   "source": [
    "# 8. Write a code to convert a given string to uppercase or lowercase.\n",
    "\n",
    "# Code\n",
    "\n",
    "a=input(\"Enter any string:\")\n",
    "# For Upper case\n",
    "print(\"Uppercase of string :\",a.upper()) \n",
    "# For lower case\n",
    "print(\"lowercase of string :\",a.lower()) "
   ]
  },
  {
   "cell_type": "code",
   "execution_count": 30,
   "id": "a19798a9-05f8-4bc7-be10-4bab1d620c59",
   "metadata": {},
   "outputs": [
    {
     "name": "stdout",
     "output_type": "stream",
     "text": [
      "Enter any string: I am a boy\n"
     ]
    },
    {
     "name": "stdout",
     "output_type": "stream",
     "text": [
      "10\n",
      "7\n"
     ]
    }
   ],
   "source": [
    "# 9. Write a code to count the number of words in a string.\n",
    "\n",
    "# Code\n",
    "\n",
    "# This code will count space as a word\n",
    "a=input(\"Enter any string:\")\n",
    "count=0\n",
    "for i in a:\n",
    "    count+=1\n",
    "print(count)\n",
    "    \n",
    "# This code will not count space as a word   \n",
    "count=0\n",
    "b=a.replace(\" \",\"\")\n",
    "for i in b:\n",
    "    count+=1\n",
    "print(count)"
   ]
  },
  {
   "cell_type": "code",
   "execution_count": 34,
   "id": "197d403f-f5d6-43da-8c1d-730178afb0d0",
   "metadata": {},
   "outputs": [
    {
     "name": "stdout",
     "output_type": "stream",
     "text": [
      "Enter first string:  I am a boy\n",
      "Enetr second string:  I am 27 year old\n"
     ]
    },
    {
     "name": "stdout",
     "output_type": "stream",
     "text": [
      "I am a boy I am 27 year old\n"
     ]
    }
   ],
   "source": [
    "# 10. Write a code to concatenate two strings without using the + operator.\n",
    "\n",
    "#  code\n",
    "\n",
    "string1=input(\"Enter first string: \")\n",
    "string2=input(\"Enetr second string: \")\n",
    "b=f\"{string1} {string2}\"\n",
    "print(b)\n"
   ]
  },
  {
   "cell_type": "code",
   "execution_count": 36,
   "id": "81521621-664b-49b9-b6ff-b9ae6a313b13",
   "metadata": {},
   "outputs": [
    {
     "name": "stdout",
     "output_type": "stream",
     "text": [
      "The original list is: [1, 3, 4, 6, 5, 1]\n",
      "The list after removing the item is: [3, 4, 6, 5]\n"
     ]
    }
   ],
   "source": [
    "# 11. Write a code to remove all occurrences of a specific element from a list.\n",
    "\n",
    "# Code\n",
    "\n",
    "def remove_items(test_list, item):\n",
    "    return [i for i in test_list if i != item]\n",
    "\n",
    "original_list = [1, 3, 4, 6, 5, 1]\n",
    "item_to_remove = 1\n",
    "updated_list = remove_items(original_list, item_to_remove)\n",
    "print(\"The original list is:\", original_list)\n",
    "print(\"The list after removing the item is:\", updated_list)"
   ]
  },
  {
   "cell_type": "code",
   "execution_count": 41,
   "id": "a6bb78a5-9163-483f-bb6c-bccfce107b47",
   "metadata": {},
   "outputs": [
    {
     "name": "stdout",
     "output_type": "stream",
     "text": [
      "The second largest number is: 45\n"
     ]
    }
   ],
   "source": [
    "# 12. Implement a code to find the second largest number in a given list of integers.\n",
    "\n",
    "# code\n",
    "\n",
    "def find_second_largest(nums):\n",
    "    nums.sort()\n",
    "    return nums[-2]\n",
    "\n",
    "my_list = [10, 20, 4, 45, 99]\n",
    "second_largest = find_second_largest(my_list)\n",
    "print(f\"The second largest number is: {second_largest}\")"
   ]
  },
  {
   "cell_type": "code",
   "execution_count": 42,
   "id": "df98e5ed-54be-45fa-a090-9c766f1dec52",
   "metadata": {},
   "outputs": [
    {
     "name": "stdout",
     "output_type": "stream",
     "text": [
      "Element counts: {1: 2, 2: 2, 3: 2, 4: 2, 5: 1}\n"
     ]
    }
   ],
   "source": [
    "# 13. Create a code to count the occurrences of each element in a list and return a dictionary with elements as\n",
    "# keys and their counts as values.\n",
    "\n",
    "# code\n",
    "\n",
    "def count_elements(lst):\n",
    "    element_counts = {}\n",
    "    for item in lst:\n",
    "        element_counts[item] = element_counts.get(item, 0) + 1\n",
    "    return element_counts\n",
    "\n",
    "my_list = [1, 2, 3, 2, 1, 3, 4, 5, 4]\n",
    "element_counts = count_elements(my_list)\n",
    "print(\"Element counts:\", element_counts)"
   ]
  },
  {
   "cell_type": "code",
   "execution_count": 43,
   "id": "65a80dd0-e53e-4d39-af97-19a67edece67",
   "metadata": {},
   "outputs": [
    {
     "data": {
      "text/plain": [
       "[5, 4, 3, 2, 1]"
      ]
     },
     "execution_count": 43,
     "metadata": {},
     "output_type": "execute_result"
    }
   ],
   "source": [
    "# 14. Write a code to reverse a list in-place without using any built-in reverse functions.\n",
    "\n",
    "# code\n",
    "\n",
    "list=[1,2,3,4,5]\n",
    "list[::-1]"
   ]
  },
  {
   "cell_type": "code",
   "execution_count": 44,
   "id": "ff4622b0-33d1-424b-bab5-4792f30cf1ec",
   "metadata": {},
   "outputs": [
    {
     "name": "stdout",
     "output_type": "stream",
     "text": [
      "List with duplicates removed while preserving order: [1, 2, 3, 4, 5]\n"
     ]
    }
   ],
   "source": [
    "# 15. Implement a code to find and remove duplicates from a list while preserving the original order of\n",
    "# elements.\n",
    "\n",
    "# code\n",
    "\n",
    "def remove_duplicates(lst):\n",
    "    seen = set()\n",
    "    result = []\n",
    "    for item in lst:\n",
    "        if item not in seen:\n",
    "            result.append(item)\n",
    "            seen.add(item)\n",
    "    return result\n",
    "\n",
    "original_list = [1, 2, 3, 2, 1, 3, 4, 5, 4]\n",
    "unique_list = remove_duplicates(original_list)\n",
    "print(\"List with duplicates removed while preserving order:\", unique_list)\n"
   ]
  },
  {
   "cell_type": "code",
   "execution_count": 45,
   "id": "2ab51a36-ba5e-4281-8312-09094ceae21d",
   "metadata": {},
   "outputs": [
    {
     "name": "stdout",
     "output_type": "stream",
     "text": [
      "Yes, the list is sorted.\n"
     ]
    }
   ],
   "source": [
    "# 16. Create a code to check if a given list is sorted (either in ascending or descending order) or not.\n",
    "\n",
    "# Code\n",
    "\n",
    "def is_sorted(lst):\n",
    "    return lst == sorted(lst)\n",
    "\n",
    "my_list = [1, 4, 5, 8, 10]\n",
    "if is_sorted(my_list):\n",
    "    print(\"Yes, the list is sorted.\")\n",
    "else:\n",
    "    print(\"No, the list is not sorted.\")"
   ]
  },
  {
   "cell_type": "code",
   "execution_count": 49,
   "id": "a06d223f-2d6b-418d-a2d1-373b41577d34",
   "metadata": {},
   "outputs": [
    {
     "name": "stdout",
     "output_type": "stream",
     "text": [
      "[1, 2, 2, 3, 5, 6, 7, 1, 2, 3, 5, 7, 100]\n"
     ]
    }
   ],
   "source": [
    "# 17. Write a code to merge two sorted lists into a single sorted list.\n",
    "\n",
    "l1=[1,5,2,3,6,7,2]\n",
    "l2=[5,1,2,3,7,100]\n",
    "sortedl1=sorted(l1)\n",
    "sortedl2=sorted(l2)\n",
    "l=sortedl1+sortedl2\n",
    "print(l)\n",
    "\n"
   ]
  },
  {
   "cell_type": "code",
   "execution_count": 56,
   "id": "c98da759-0f1b-40d2-8544-8898f280afbf",
   "metadata": {},
   "outputs": [
    {
     "name": "stdout",
     "output_type": "stream",
     "text": [
      "{1, 2, 4}\n"
     ]
    }
   ],
   "source": [
    "# 18. Implement a code to find the intersection of two given lists.\n",
    "\n",
    "# Code\n",
    "\n",
    "\n",
    "l1=[1,2,3,4,5]\n",
    "l2=[4,2,6,8,9,1]\n",
    "l=set(l1)&set(l2)\n",
    "print(l)\n"
   ]
  },
  {
   "cell_type": "code",
   "execution_count": 57,
   "id": "8f67cdfb-b966-4114-8c0d-b4493df4e140",
   "metadata": {},
   "outputs": [
    {
     "name": "stdout",
     "output_type": "stream",
     "text": [
      "{1, 2, 3, 4, 5, 6, 8, 9}\n"
     ]
    }
   ],
   "source": [
    "# 19. Create a code to find the union of two lists without duplicates.\n",
    "\n",
    "# Code\n",
    "\n",
    "l1=[1,2,3,4,5]\n",
    "l2=[4,2,6,8,9,1]\n",
    "l=set(l1)|set(l2)\n",
    "print(l)"
   ]
  },
  {
   "cell_type": "code",
   "execution_count": 59,
   "id": "73b03785-e5ee-4ec8-886f-d22993297ab3",
   "metadata": {},
   "outputs": [
    {
     "name": "stdout",
     "output_type": "stream",
     "text": [
      "[1, 5, 2, 4, 3]\n"
     ]
    }
   ],
   "source": [
    "# 20. Write a code to shuffle a given list randomly without using any built-in shuffle functions.\n",
    "\n",
    "# Code\n",
    "\n",
    "import random\n",
    "\n",
    "def shuffle_list(input_list):\n",
    "    # Create a copy of the input list to avoid modifying the original list\n",
    "    shuffled_list = input_list[:]\n",
    "    \n",
    "    # Perform Fisher-Yates shuffle\n",
    "    for i in range(len(shuffled_list) - 1, 0, -1):\n",
    "        j = random.randint(0, i)  # Choose a random index from 0 to i (inclusive)\n",
    "        shuffled_list[i], shuffled_list[j] = shuffled_list[j], shuffled_list[i]  # Swap elements\n",
    "    \n",
    "    return shuffled_list\n",
    "\n",
    "my_list = [1, 2, 3, 4, 5]\n",
    "shuffled = shuffle_list(my_list)\n",
    "print(shuffled)  # Output will be a shuffled version of my_list\n"
   ]
  },
  {
   "cell_type": "code",
   "execution_count": 68,
   "id": "a6833069-7c91-4dcc-9060-6ec925799a03",
   "metadata": {},
   "outputs": [
    {
     "name": "stdout",
     "output_type": "stream",
     "text": [
      "{3, 4, 5}\n"
     ]
    }
   ],
   "source": [
    "# 21. Write a code that takes two tuples as input and returns a new tuple containing elements that are\n",
    "# common to both input tuples.\n",
    "\n",
    "# code\n",
    "\n",
    "def common_element(tuple1,tuple2):\n",
    "    set1=set(tuple1)\n",
    "    set2=set(tuple2)\n",
    "    return set1&set2\n",
    "tuple1 = (1, 2, 3, 4, 5)\n",
    "tuple2 = (3, 4, 5, 6, 7)\n",
    "print(common_element(tuple1,tuple2))"
   ]
  },
  {
   "cell_type": "code",
   "execution_count": 16,
   "id": "9c23b426-9e1b-444b-90fc-2cb90fe202b5",
   "metadata": {},
   "outputs": [
    {
     "name": "stdout",
     "output_type": "stream",
     "text": [
      "Enter integers for set 1 separated by commas:  1,1,1,2,3,4,5\n",
      "Enter integers for set 2 separated by commas:  1,2,8,9,5\n"
     ]
    },
    {
     "name": "stdout",
     "output_type": "stream",
     "text": [
      "Intersection of set 1 and set 2: {1, 2, 5}\n"
     ]
    }
   ],
   "source": [
    "# 22. Create a code that prompts the user to enter two sets of integers separated by commas. Then, print the\n",
    "# intersection of these two sets.\n",
    "\n",
    "# Code\n",
    "\n",
    "def main():\n",
    "    # Prompting the user to enter two sets of integers separated by commas\n",
    "    set1_input = input(\"Enter integers for set 1 separated by commas: \")\n",
    "    set2_input = input(\"Enter integers for set 2 separated by commas: \")\n",
    "    \n",
    "    # Splitting the input strings by commas and converting them to sets of integers\n",
    "    set1 = set(map(int, set1_input.split(',')))\n",
    "    set2 = set(map(int, set2_input.split(',')))\n",
    "    \n",
    "    # Finding the intersection of the two sets\n",
    "    intersection = set1 & set2\n",
    "    \n",
    "    # Printing the intersection\n",
    "    print(f\"Intersection of set 1 and set 2: {intersection}\")\n",
    "if __name__ == \"__main__\":\n",
    "    main()   "
   ]
  },
  {
   "cell_type": "code",
   "execution_count": 25,
   "id": "b332f059-5401-494c-8245-7bdf13658d5e",
   "metadata": {},
   "outputs": [
    {
     "name": "stdout",
     "output_type": "stream",
     "text": [
      "The concatenated tuple is (1, 2, 3, 4, 5, 6)\n"
     ]
    }
   ],
   "source": [
    "# 23. Write a code to concatenate two tuples. The function should take two tuples as input and return a new\n",
    "# tuple containing elements from both input tuples.\n",
    "\n",
    "# Code\n",
    "\n",
    "def conacatenate_tuple(tuple1,tuple2):\n",
    "    return tuple1+tuple2\n",
    "\n",
    "tuple1=(1,2,3)\n",
    "tuple2=(4,5,6)\n",
    "result=conacatenate_tuple(tuple1,tuple2)\n",
    "print(f\"The concatenated tuple is {result}\")"
   ]
  },
  {
   "cell_type": "code",
   "execution_count": 3,
   "id": "ff0f2761-ea78-454c-9361-1f0fc227a9a0",
   "metadata": {},
   "outputs": [
    {
     "name": "stdout",
     "output_type": "stream",
     "text": [
      "Enter the values of 1st set seperated by comma 1,1,1,2,3,4,5,6\n",
      "Enter the values of 2nd set seperated by comma 3,4,5,6,4,5,5\n"
     ]
    },
    {
     "name": "stdout",
     "output_type": "stream",
     "text": [
      "{'1', '2'}\n"
     ]
    }
   ],
   "source": [
    "# 24. Develop a code that prompts the user to input two sets of strings. Then, print the elements that are\n",
    "# present in the first set but not in the second set.\n",
    "\n",
    "# Code\n",
    "\n",
    "\n",
    "a=input(\"Enter the values of 1st set seperated by comma\")\n",
    "b=input(\"Enter the values of 2nd set seperated by comma\")\n",
    "\n",
    "c=set(a)\n",
    "d=set(b)\n",
    "print(c-d)"
   ]
  },
  {
   "cell_type": "code",
   "execution_count": 4,
   "id": "dddd890b-3812-4de2-a27b-0da833f0b981",
   "metadata": {},
   "outputs": [
    {
     "name": "stdout",
     "output_type": "stream",
     "text": [
      "Sliced tuple: (20, 30, 40)\n"
     ]
    }
   ],
   "source": [
    "# 25. Create a code that takes a tuple and two integers as input. The function should return a new tuple\n",
    "# containing elements from the original tuple within the specified range of indices.\n",
    "\n",
    "# Code\n",
    "\n",
    "def slice_tuple(original_tuple, start_index, end_index):\n",
    "    \"\"\"\n",
    "    Returns a new tuple containing elements from the original tuple within the specified range.\n",
    "    \"\"\"\n",
    "    return original_tuple[start_index:end_index + 1]\n",
    "\n",
    "# Example usage:\n",
    "my_tuple = (10, 20, 30, 40, 50)\n",
    "start = 1\n",
    "end = 3\n",
    "result = slice_tuple(my_tuple, start, end)\n",
    "print(\"Sliced tuple:\", result)\n"
   ]
  },
  {
   "cell_type": "code",
   "execution_count": 7,
   "id": "b403d19c-3149-4ac0-a529-f71d5df96c4d",
   "metadata": {},
   "outputs": [
    {
     "name": "stdout",
     "output_type": "stream",
     "text": [
      "Enter the first set of character sperated by comma: a,a,a,a,b,b,c,c,d,d,e,f\n",
      "Enter the second set of character seperated by comma: b,c,c,f\n"
     ]
    },
    {
     "name": "stdout",
     "output_type": "stream",
     "text": [
      "Union of two set is  {'c', 'f', 'e', 'b', 'a', 'd'}\n"
     ]
    }
   ],
   "source": [
    "# 26. Write a code that prompts the user to input two sets of characters. Then, print the union of these two sets.\n",
    "\n",
    "# Code\n",
    "\n",
    "a=set(input('Enter the first set of character sperated by comma:').split(\",\"))\n",
    "b=set(input('Enter the second set of character seperated by comma:').split(\",\"))\n",
    "print(\"Union of two set is \",a|b)\n"
   ]
  },
  {
   "cell_type": "code",
   "execution_count": 1,
   "id": "73817e5c-d1f8-472b-ba1c-94f3784e1813",
   "metadata": {},
   "outputs": [
    {
     "name": "stdout",
     "output_type": "stream",
     "text": [
      "Maximum value: 8\n",
      "Minimum value: 1\n"
     ]
    }
   ],
   "source": [
    "# 27. Develop a code that takes a tuple of integers as input. The function should return the maximum and\n",
    "# minimum values from the tuple using tuple unpjacking.\n",
    "\n",
    "#Code\n",
    "\n",
    "def find_max_min(tuple_of_integers):\n",
    "    if not tuple_of_integers:\n",
    "        return None, None\n",
    "    \n",
    "    # Unpacking the tuple to find max and min\n",
    "    max_val = max(tuple_of_integers)\n",
    "    min_val = min(tuple_of_integers)\n",
    "    \n",
    "    return max_val, min_val\n",
    "\n",
    "# Example usage:\n",
    "input_tuple = (3, 1, 7, 2, 8, 5)\n",
    "max_value, min_value = find_max_min(input_tuple)\n",
    "print(f\"Maximum value: {max_value}\")\n",
    "print(f\"Minimum value: {min_value}\")"
   ]
  },
  {
   "cell_type": "code",
   "execution_count": 2,
   "id": "ae71531a-c08e-4256-934d-d19ec477cf4e",
   "metadata": {},
   "outputs": [
    {
     "name": "stdout",
     "output_type": "stream",
     "text": [
      "Enter the value of set one seperated by comma 1,2,3,4,5\n",
      "Enter the value of set two seperated by comma 3,4,5,6,7\n"
     ]
    },
    {
     "name": "stdout",
     "output_type": "stream",
     "text": [
      "union of two set is {'5', '1', '6', '7', '4', '2', '3'}\n",
      "Intersection of two set is {'4', '5', '3'}\n",
      "difference of two set is {'2', '1'}\n"
     ]
    }
   ],
   "source": [
    "# 28. Create a code that defines two sets of integers. Then, print the union, intersection, and difference of these\n",
    "# two sets.\n",
    "\n",
    "# Code\n",
    "\n",
    "a=set(input(\"Enter the value of set one seperated by comma\").split(\",\"))\n",
    "b=set(input(\"Enter the value of set two seperated by comma\").split(\",\"))\n",
    "print(\"union of two set is\",a|b)\n",
    "print(\"Intersection of two set is\",a&b)\n",
    "print(\"difference of two set is\",a-b)"
   ]
  },
  {
   "cell_type": "code",
   "execution_count": 3,
   "id": "adde8150-ca9f-4745-889e-289c2ce4b376",
   "metadata": {},
   "outputs": [
    {
     "name": "stdout",
     "output_type": "stream",
     "text": [
      "Number of occurrences of 2 in the tuple: 3\n"
     ]
    }
   ],
   "source": [
    "# 29. Write a code that takes a tuple and an element as input. The function should return the count of\n",
    "# occurrences of the given element in the tuple.\n",
    "\n",
    "# Code\n",
    "\n",
    "def count_occurrences(input_tuple, element):\n",
    "    # Count occurrences of the element in the tuple\n",
    "    count = input_tuple.count(element)\n",
    "    return count\n",
    "\n",
    "# Example usage:\n",
    "input_tuple = (1, 2, 3, 4, 2, 5, 2)\n",
    "element_to_count = 2\n",
    "result = count_occurrences(input_tuple, element_to_count)\n",
    "print(f\"Number of occurrences of {element_to_count} in the tuple: {result}\")"
   ]
  },
  {
   "cell_type": "code",
   "execution_count": 4,
   "id": "7bde6447-aabe-4c14-a61d-d9895d286135",
   "metadata": {},
   "outputs": [
    {
     "name": "stdout",
     "output_type": "stream",
     "text": [
      "Enter the value of set one seperated by comma 1,2,3,4,5\n",
      "Enter the value of set two seperated by comma 2,3,4,5,6\n"
     ]
    },
    {
     "name": "stdout",
     "output_type": "stream",
     "text": [
      "The symmetric difference of these two set is {'1', '6'}\n"
     ]
    }
   ],
   "source": [
    "# 30. Develop a code that prompts the user to input two sets of strings. Then, print the symmetric difference of\n",
    "# these two sets.\n",
    "\n",
    "#Code\n",
    "\n",
    "a=set(input(\"Enter the value of set one seperated by comma\").split(\",\"))\n",
    "b=set(input(\"Enter the value of set two seperated by comma\").split(\",\"))\n",
    "print(\"The symmetric difference of these two set is\",a^b)"
   ]
  },
  {
   "cell_type": "code",
   "execution_count": 5,
   "id": "4b3fb3cb-8181-4a91-81a6-5cb8d8f1da95",
   "metadata": {},
   "outputs": [
    {
     "name": "stdout",
     "output_type": "stream",
     "text": [
      "Word frequencies dictionary:\n",
      "{'apple': 3, 'banana': 2, 'orange': 1, 'pear': 1}\n"
     ]
    }
   ],
   "source": [
    "# 31. Write a code that takes a list of words as input and returns a dictionary where the keys are unique words\n",
    "# and the values are the frequencies of those words in the input list.\n",
    "\n",
    "#code\n",
    "\n",
    "def count_word_frequencies(word_list):\n",
    "    word_freq_dict = {}\n",
    "    \n",
    "    # Count frequencies of each word in the list\n",
    "    for word in word_list:\n",
    "        if word in word_freq_dict:\n",
    "            word_freq_dict[word] += 1\n",
    "        else:\n",
    "            word_freq_dict[word] = 1\n",
    "    \n",
    "    return word_freq_dict\n",
    "\n",
    "# Example usage:\n",
    "input_words = ['apple', 'banana', 'apple', 'orange', 'banana', 'apple', 'pear']\n",
    "word_freq_dict = count_word_frequencies(input_words)\n",
    "print(\"Word frequencies dictionary:\")\n",
    "print(word_freq_dict)"
   ]
  },
  {
   "cell_type": "code",
   "execution_count": 6,
   "id": "0fbf91dc-3f59-4446-ab63-cd4f38c24e91",
   "metadata": {},
   "outputs": [
    {
     "name": "stdout",
     "output_type": "stream",
     "text": [
      "Merged dictionary:\n",
      "{'apple': 3, 'banana': 3, 'orange': 3, 'pear': 5}\n"
     ]
    }
   ],
   "source": [
    "# 32. Write a code that takes two dictionaries as input and merges them into a single dictionary. If there are\n",
    "# common keys, the values should be added together.\n",
    "\n",
    "# Code\n",
    "\n",
    "def merge_dicts(dict1, dict2):\n",
    "    merged_dict = dict(dict1)  # Create a copy of dict1 to start with\n",
    "    \n",
    "    for key, value in dict2.items():\n",
    "        if key in merged_dict:\n",
    "            merged_dict[key] += value  # If key exists in merged_dict, add the value\n",
    "        else:\n",
    "            merged_dict[key] = value  # If key doesn't exist in merged_dict, assign the value\n",
    "    \n",
    "    return merged_dict\n",
    "\n",
    "# Example usage:\n",
    "dict1 = {'apple': 3, 'banana': 2, 'orange': 1}\n",
    "dict2 = {'banana': 1, 'pear': 5, 'orange': 2}\n",
    "merged_dict = merge_dicts(dict1, dict2)\n",
    "print(\"Merged dictionary:\")\n",
    "print(merged_dict)"
   ]
  },
  {
   "cell_type": "code",
   "execution_count": 7,
   "id": "c49d2dc1-2db7-4ba6-ac73-ad67111cdd94",
   "metadata": {},
   "outputs": [
    {
     "name": "stdout",
     "output_type": "stream",
     "text": [
      "Value for keys ['first', 'second', 'third']: 10\n",
      "Value for keys ['first', 'second', 'fourth']: None\n"
     ]
    }
   ],
   "source": [
    "# 33. Write a code to access a value in a nested dictionary. The function should take the dictionary and a list of\n",
    "# keys as input, and return the corresponding value. If any of the keys do not exist in the dictionary, the\n",
    "# function should return None.\n",
    "\n",
    "# Code\n",
    "\n",
    "def access_nested_dict(nested_dict, keys):\n",
    "    current_dict = nested_dict\n",
    "    \n",
    "    # Traverse through each key in the list\n",
    "    for key in keys:\n",
    "        if isinstance(current_dict, dict) and key in current_dict:\n",
    "            current_dict = current_dict[key]\n",
    "        else:\n",
    "            return None\n",
    "    \n",
    "    return current_dict\n",
    "\n",
    "# Example usage:\n",
    "nested_dict = {\n",
    "    'first': {\n",
    "        'second': {\n",
    "            'third': 10\n",
    "        }\n",
    "    }\n",
    "}\n",
    "\n",
    "keys_to_access = ['first', 'second', 'third']\n",
    "value = access_nested_dict(nested_dict, keys_to_access)\n",
    "print(f\"Value for keys {keys_to_access}: {value}\")\n",
    "\n",
    "keys_to_access = ['first', 'second', 'fourth']\n",
    "value = access_nested_dict(nested_dict, keys_to_access)\n",
    "print(f\"Value for keys {keys_to_access}: {value}\")\n"
   ]
  },
  {
   "cell_type": "code",
   "execution_count": 10,
   "id": "d16fb637-1e5e-4961-a330-0327a3c03854",
   "metadata": {},
   "outputs": [
    {
     "name": "stdout",
     "output_type": "stream",
     "text": [
      "Sorted dictionary (ascending): {'banana': 20, 'apple': 30, 'cherry': 40}\n",
      "Sorted dictionary (descending): {'cherry': 40, 'apple': 30, 'banana': 20}\n"
     ]
    }
   ],
   "source": [
    "# 34. Write a code that takes a dictionary as input and returns a sorted version of it based on the values. You\n",
    "# can choose whether to sort in ascending or descending order.\n",
    "\n",
    "# Code\n",
    "\n",
    "def sort_dict_by_values(input_dict, ascending=True):\n",
    "    \"\"\"\n",
    "    Sorts a dictionary by values and returns a new dictionary.\n",
    "    :param input_dict: The input dictionary.\n",
    "    :param ascending: If True, sorts in ascending order; otherwise, sorts in descending order.\n",
    "    :return: A new dictionary sorted by values.\n",
    "    \"\"\"\n",
    "    sorted_items = sorted(input_dict.items(), key=lambda item: item[1], reverse=not ascending)\n",
    "    return dict(sorted_items)\n",
    "\n",
    "# Example usage:\n",
    "my_dict = {'apple': 30, 'banana': 20, 'cherry': 40}\n",
    "sorted_dict_asc = sort_dict_by_values(my_dict, ascending=True)\n",
    "sorted_dict_desc = sort_dict_by_values(my_dict, ascending=False)\n",
    "\n",
    "print(\"Sorted dictionary (ascending):\", sorted_dict_asc)\n",
    "print(\"Sorted dictionary (descending):\", sorted_dict_desc)\n",
    "\n"
   ]
  },
  {
   "cell_type": "code",
   "execution_count": 13,
   "id": "d96c97b2-6031-4049-a2bb-dd1b5f45bbe8",
   "metadata": {},
   "outputs": [
    {
     "name": "stdout",
     "output_type": "stream",
     "text": [
      "Inverted dictionary:\n",
      "{3: ['apple', 'orange'], 2: ['banana', 'pear']}\n"
     ]
    }
   ],
   "source": [
    "# 35. Write a code that inverts a dictionary, swapping keys and values, Ensure that the inverted dictionary\n",
    "# correctly handles cases where multiple keys have the same value by storing the keys as a list in the\n",
    "# inverted dictionary.\n",
    "\n",
    "# Code\n",
    "\n",
    "def invert_dict(input_dict):\n",
    "    inverted_dict = {}\n",
    "    \n",
    "    for key, value in input_dict.items():\n",
    "        if value in inverted_dict:\n",
    "            inverted_dict[value].append(key)\n",
    "        else:\n",
    "            inverted_dict[value] = [key]\n",
    "    \n",
    "    return inverted_dict\n",
    "\n",
    "# Example usage:\n",
    "input_dict = {'apple': 3, 'banana': 2, 'orange': 3, 'pear': 2}\n",
    "inverted_dict = invert_dict(input_dict)\n",
    "print(\"Inverted dictionary:\")\n",
    "print(inverted_dict)\n",
    "\n"
   ]
  }
 ],
 "metadata": {
  "kernelspec": {
   "display_name": "Python 3 (ipykernel)",
   "language": "python",
   "name": "python3"
  },
  "language_info": {
   "codemirror_mode": {
    "name": "ipython",
    "version": 3
   },
   "file_extension": ".py",
   "mimetype": "text/x-python",
   "name": "python",
   "nbconvert_exporter": "python",
   "pygments_lexer": "ipython3",
   "version": "3.12.1"
  }
 },
 "nbformat": 4,
 "nbformat_minor": 5
}
